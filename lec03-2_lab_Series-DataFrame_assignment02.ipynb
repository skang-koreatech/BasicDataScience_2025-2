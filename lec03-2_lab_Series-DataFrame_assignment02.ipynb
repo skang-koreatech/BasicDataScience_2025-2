{
 "cells": [
  {
   "cell_type": "markdown",
   "metadata": {},
   "source": [
    "## 기초데이터과학 (01분반) \n",
    "\n",
    "## Programming assignment 02"
   ]
  },
  {
   "cell_type": "markdown",
   "metadata": {},
   "source": [
    "### 1. Pandas Series를 활용하여 결측치를 찾고 합산, 평균을 구하시오."
   ]
  },
  {
   "cell_type": "code",
   "execution_count": 23,
   "metadata": {},
   "outputs": [],
   "source": [
    "import pandas as pd\n",
    "\n",
    "# Series 객체를 생성하기 위해 주어진 데이터\n",
    "d = [100, 200, None, 150, None, 300, 250]\n",
    "i = ['A', 'B', 'C', 'D', 'E', 'F', 'G']"
   ]
  },
  {
   "cell_type": "code",
   "execution_count": 24,
   "metadata": {},
   "outputs": [],
   "source": [
    "# d를 value로 i를 index로 하는 Series 객체 생성\n",
    "data = pd.Series(d, index=i)"
   ]
  },
  {
   "cell_type": "markdown",
   "metadata": {},
   "source": [
    "#### 1-1. 위에서 생성한 Series 객체에서 결측치가 있는 값들을 출력하시오."
   ]
  },
  {
   "cell_type": "code",
   "execution_count": 25,
   "metadata": {},
   "outputs": [
    {
     "name": "stdout",
     "output_type": "stream",
     "text": [
      "결측치가 있는 값들:\n",
      "C   NaN\n",
      "E   NaN\n",
      "dtype: float64\n",
      "\n"
     ]
    }
   ],
   "source": [
    "# 주어진 Series 중 결측치가 있는 값들을 찾고 출력\n",
    "\n"
   ]
  },
  {
   "cell_type": "markdown",
   "metadata": {},
   "source": [
    "#### 1-2. 위에서 생성한 Series 객체에서 결측치가 아닌 값들을 출력하시오."
   ]
  },
  {
   "cell_type": "code",
   "execution_count": 26,
   "metadata": {},
   "outputs": [
    {
     "name": "stdout",
     "output_type": "stream",
     "text": [
      "결측치가 아닌 값들:\n",
      "A    100.0\n",
      "B    200.0\n",
      "D    150.0\n",
      "F    300.0\n",
      "G    250.0\n",
      "dtype: float64\n",
      "\n"
     ]
    }
   ],
   "source": [
    "# 주어진 Series 중 결측치가 없는 값들을 찾고 출력\n",
    "\n"
   ]
  },
  {
   "cell_type": "markdown",
   "metadata": {},
   "source": [
    "#### 1-3. 위에서 생성한 Series 객체에서 결측치가 있는 값의 개수를 구하고 출력하시오."
   ]
  },
  {
   "cell_type": "code",
   "execution_count": 27,
   "metadata": {},
   "outputs": [
    {
     "name": "stdout",
     "output_type": "stream",
     "text": [
      "결측치가 있는 값의 개수: 2\n",
      "\n"
     ]
    }
   ],
   "source": [
    "# 결측치가 있는 값의 개수 구하고 출력\n",
    "\n"
   ]
  },
  {
   "cell_type": "markdown",
   "metadata": {},
   "source": [
    "#### 1-4. 위에서 생성한 Series 객체에서 결측치가 아닌 값들의 평균을 구하고 출력하시오."
   ]
  },
  {
   "cell_type": "code",
   "execution_count": 28,
   "metadata": {},
   "outputs": [
    {
     "name": "stdout",
     "output_type": "stream",
     "text": [
      "결측치가 아닌 값들의 평균: 200.0\n",
      "\n"
     ]
    }
   ],
   "source": [
    "# 결측치가 없는 값들의 평균을 구하고 출력\n",
    "\n"
   ]
  },
  {
   "cell_type": "markdown",
   "metadata": {},
   "source": [
    "### 2. 다음과 같이 주어진 상품 데이터를 이용하여 아래 문제에 맞게 코드를 작성하시오. "
   ]
  },
  {
   "cell_type": "code",
   "execution_count": 2,
   "metadata": {},
   "outputs": [
    {
     "name": "stdout",
     "output_type": "stream",
     "text": [
      "Default:\n",
      "  Product  Price  Quantity     Category\n",
      "0       A    100        10  Electronics\n",
      "1       B    200         5     Clothing\n",
      "2       C    150         8  Electronics\n",
      "3       D    300         6  Electronics\n",
      "4       E    250         9     Clothing\n",
      "5       F    130        15  Electronics\n",
      "6       G    120        12     Clothing\n",
      "7       H    180         7  Electronics\n",
      "8       I    220        10     Clothing\n",
      "9       J    270         8     Clothing\n",
      "\n"
     ]
    }
   ],
   "source": [
    "import pandas as pd\n",
    "\n",
    "# 주어진 데이터를 이용하여 데이터 프레임 객체를 생성하고 출력\n",
    "data = {\n",
    "    'Product': ['A', 'B', 'C', 'D', 'E', 'F', 'G', 'H', 'I', 'J'],\n",
    "    'Price': [100, 200, 150, 300, 250, 130, 120, 180, 220, 270],\n",
    "    'Quantity': [10, 5, 8, 6, 9, 15, 12, 7, 10, 8],\n",
    "    'Category': ['Electronics', 'Clothing', 'Electronics', 'Electronics', \\\n",
    "                 'Clothing', 'Electronics', 'Clothing', 'Electronics', \\\n",
    "                 'Clothing', 'Clothing']\n",
    "}\n",
    "df = pd.DataFrame(data)\n",
    "print(\"Default:\")\n",
    "print(df)\n",
    "print()"
   ]
  },
  {
   "cell_type": "markdown",
   "metadata": {},
   "source": [
    "#### 2-1. 위에서 생성한 DataFrame 객체의 행 인덱스를 'A', 'B', 'C', 'D', 'E', 'F', 'G', 'H', 'I', 'J'로 설정하여 출력하시오."
   ]
  },
  {
   "cell_type": "code",
   "execution_count": 3,
   "metadata": {},
   "outputs": [
    {
     "name": "stdout",
     "output_type": "stream",
     "text": [
      "  Product  Price  Quantity     Category\n",
      "A       A    100        10  Electronics\n",
      "B       B    200         5     Clothing\n",
      "C       C    150         8  Electronics\n",
      "D       D    300         6  Electronics\n",
      "E       E    250         9     Clothing\n",
      "F       F    130        15  Electronics\n",
      "G       G    120        12     Clothing\n",
      "H       H    180         7  Electronics\n",
      "I       I    220        10     Clothing\n",
      "J       J    270         8     Clothing\n"
     ]
    }
   ],
   "source": [
    "# DataFrame의 행 인덱스를 'A', 'B', 'C', 'D', 'E', 'F', 'G', 'H', 'I', 'J'로 설정\n",
    "# Product 변수(열)의 값이 A, B, ... J 이므로 이 값을 이용\n",
    "\n",
    "# DataFrame 객체의 사본 생성\n",
    "\n",
    "\n",
    "# df_new 객체의 행 인덱스를 Product 변수의 값으로 설정\n",
    "# 변수 이름이 함께 추출되지 않도록 pandas.DataFrame.to_numpy 함수 활용\n",
    "\n",
    "\n",
    "# DataFrame 출력\n"
   ]
  },
  {
   "cell_type": "markdown",
   "metadata": {},
   "source": [
    "#### 2-2. 2-1의 DataFrame 객체의 Product 변수의 값을 아래 주어진 리스트를 이용하여 변경하여 출력하시오."
   ]
  },
  {
   "cell_type": "code",
   "execution_count": 4,
   "metadata": {},
   "outputs": [
    {
     "name": "stdout",
     "output_type": "stream",
     "text": [
      "      Product  Price  Quantity     Category\n",
      "A      Laptop    100        10  Electronics\n",
      "B      Jacket    200         5     Clothing\n",
      "C  Smartphone    150         8  Electronics\n",
      "D  Headphones    300         6  Electronics\n",
      "E     Sweater    250         9     Clothing\n",
      "F      Tablet    130        15  Electronics\n",
      "G       Scarf    120        12     Clothing\n",
      "H      Camera    180         7  Electronics\n",
      "I       Jeans    220        10     Clothing\n",
      "J         Hat    270         8     Clothing\n"
     ]
    }
   ],
   "source": [
    "d = ['Laptop', 'Jacket', 'Smartphone', 'Headphones', 'Sweater', \\\n",
    "     'Tablet', 'Scarf', 'Camera', 'Jeans', 'Hat']\n",
    "\n",
    "# DataFrame의 'Product' 변수의 값을 위의 리스트 d를 이용하여 변경\n",
    "\n",
    "\n",
    "# DataFrame 출력\n"
   ]
  },
  {
   "cell_type": "markdown",
   "metadata": {},
   "source": [
    "#### 2-3. 2-2의 DataFrame 객체에서 열의 순서를 Product, Category, Price, Quantity 순서로 재설정하여 출력하시오."
   ]
  },
  {
   "cell_type": "code",
   "execution_count": 5,
   "metadata": {},
   "outputs": [
    {
     "name": "stdout",
     "output_type": "stream",
     "text": [
      "      Product     Category  Price  Quantity\n",
      "A      Laptop  Electronics    100        10\n",
      "B      Jacket     Clothing    200         5\n",
      "C  Smartphone  Electronics    150         8\n",
      "D  Headphones  Electronics    300         6\n",
      "E     Sweater     Clothing    250         9\n",
      "F      Tablet  Electronics    130        15\n",
      "G       Scarf     Clothing    120        12\n",
      "H      Camera  Electronics    180         7\n",
      "I       Jeans     Clothing    220        10\n",
      "J         Hat     Clothing    270         8\n"
     ]
    }
   ],
   "source": [
    "# DataFrame 열의 순서를 Product, Category, Price, Quantity 순서로 재설정\n",
    "\n",
    "\n",
    "# DataFrame 출력\n"
   ]
  },
  {
   "cell_type": "markdown",
   "metadata": {},
   "source": [
    "#### 2-4. 2-3의 DataFrame의 요약 통계량을 출력하시오."
   ]
  },
  {
   "cell_type": "code",
   "execution_count": 6,
   "metadata": {},
   "outputs": [
    {
     "name": "stdout",
     "output_type": "stream",
     "text": [
      "            Price  Quantity\n",
      "count   10.000000  10.00000\n",
      "mean   192.000000   9.00000\n",
      "std     67.790527   2.94392\n",
      "min    100.000000   5.00000\n",
      "25%    135.000000   7.25000\n",
      "50%    190.000000   8.50000\n",
      "75%    242.500000  10.00000\n",
      "max    300.000000  15.00000\n"
     ]
    }
   ],
   "source": [
    "# 요약 통계량 출력\n"
   ]
  },
  {
   "cell_type": "markdown",
   "metadata": {},
   "source": [
    "#### 2-5. 2-3의 DataFrame에서 Price 변수와 Quantity 변수 값을 곱한 값을 P*Q이라는 파생 변수를 만들어 추가하고 출력하시오."
   ]
  },
  {
   "cell_type": "code",
   "execution_count": 7,
   "metadata": {},
   "outputs": [
    {
     "name": "stdout",
     "output_type": "stream",
     "text": [
      "      Product     Category  Price  Quantity   P*Q\n",
      "A      Laptop  Electronics    100        10  1000\n",
      "B      Jacket     Clothing    200         5  1000\n",
      "C  Smartphone  Electronics    150         8  1200\n",
      "D  Headphones  Electronics    300         6  1800\n",
      "E     Sweater     Clothing    250         9  2250\n",
      "F      Tablet  Electronics    130        15  1950\n",
      "G       Scarf     Clothing    120        12  1440\n",
      "H      Camera  Electronics    180         7  1260\n",
      "I       Jeans     Clothing    220        10  2200\n",
      "J         Hat     Clothing    270         8  2160\n"
     ]
    }
   ],
   "source": [
    "# 파생 변수 만들어 추가하기\n",
    "\n",
    "\n",
    "# DataFrame 출력\n"
   ]
  },
  {
   "cell_type": "markdown",
   "metadata": {},
   "source": [
    "### 3. 학생들의 점수가 담긴 DataFrame을 생성하고, 각 학생들의 총점과 평균 점수를 계산하여 새로운 열로 추가하시오."
   ]
  },
  {
   "cell_type": "code",
   "execution_count": 35,
   "metadata": {},
   "outputs": [
    {
     "name": "stdout",
     "output_type": "stream",
     "text": [
      "원본 데이터:\n",
      "         korean  english  math  science  history  CSE  AI\n",
      "Alice        87       90    85       88       92   95  87\n",
      "Bob          70       85    79       79       81   89  78\n",
      "Charlie      95       87    92       85       87   94  88\n",
      "David        85       88    86       86       90   90  92\n",
      "Mike        100       76    89       95       91  100  85\n",
      "Emma         78       91    95      100       89   93  99\n",
      "Sophia       82       84    87       92       94   88  95\n"
     ]
    }
   ],
   "source": [
    "import pandas as pd\n",
    "import numpy as np\n",
    "\n",
    "# 주어진 데이터를 이용하여 데이터 프레임 객체를 생성하고 출력\n",
    "scores_data = {\n",
    "    'korean': [87, 70, 95, 85, 100, 78, 82],\n",
    "    'english': [90, 85, 87, 88, 76, 91, 84],\n",
    "    'math': [85, 79, 92, 86, 89, 95, 87],\n",
    "    'science': [88, 79, 85, 86, 95, 100, 92],\n",
    "    'history': [92, 81, 87, 90, 91, 89, 94],\n",
    "    'CSE': [95, 89, 94, 90, 100, 93, 88],\n",
    "    'AI': [87, 78, 88, 92, 85, 99, 95]\n",
    "}\n",
    "df_scores = pd.DataFrame(scores_data, index=['Alice', 'Bob', 'Charlie', 'David', 'Mike', 'Emma', 'Sophia'])\n",
    "print(\"원본 데이터:\")\n",
    "print(df_scores)"
   ]
  },
  {
   "cell_type": "markdown",
   "metadata": {},
   "source": [
    "#### 3-1. 각 학생의 총점을 total 열로 추가하고, 평균을 average 열로 추가하시오."
   ]
  },
  {
   "cell_type": "code",
   "execution_count": 36,
   "metadata": {},
   "outputs": [
    {
     "name": "stdout",
     "output_type": "stream",
     "text": [
      "총점과 평균 점수 추가: \n",
      "         korean  english  math  science  history  CSE  AI  total  average\n",
      "Alice        87       90    85       88       92   95  87    350    87.50\n",
      "Bob          70       85    79       79       81   89  78    313    78.25\n",
      "Charlie      95       87    92       85       87   94  88    359    89.75\n",
      "David        85       88    86       86       90   90  92    345    86.25\n",
      "Mike        100       76    89       95       91  100  85    360    90.00\n",
      "Emma         78       91    95      100       89   93  99    364    91.00\n",
      "Sophia       82       84    87       92       94   88  95    345    86.25\n"
     ]
    }
   ],
   "source": [
    "# 총점과 평균 점수 추가\n",
    "\n",
    "\n",
    "\n",
    "# 결과 출력\n",
    "\n"
   ]
  },
  {
   "cell_type": "markdown",
   "metadata": {},
   "source": [
    "#### 3-2. 데이터 정보를 확인하시오."
   ]
  },
  {
   "cell_type": "code",
   "execution_count": 37,
   "metadata": {},
   "outputs": [
    {
     "name": "stdout",
     "output_type": "stream",
     "text": [
      "           korean    english       math     science    history         CSE  \\\n",
      "count    7.000000   7.000000   7.000000    7.000000   7.000000    7.000000   \n",
      "mean    85.285714  85.857143  87.571429   89.285714  89.142857   92.714286   \n",
      "std     10.094789   5.014265   5.159365    6.969321   4.220133    4.151879   \n",
      "min     70.000000  76.000000  79.000000   79.000000  81.000000   88.000000   \n",
      "25%     80.000000  84.500000  85.500000   85.500000  88.000000   89.500000   \n",
      "50%     85.000000  87.000000  87.000000   88.000000  90.000000   93.000000   \n",
      "75%     91.000000  89.000000  90.500000   93.500000  91.500000   94.500000   \n",
      "max    100.000000  91.000000  95.000000  100.000000  94.000000  100.000000   \n",
      "\n",
      "              AI       total    average  \n",
      "count   7.000000    7.000000   7.000000  \n",
      "mean   89.142857  348.000000  87.000000  \n",
      "std     6.914443   17.165858   4.291464  \n",
      "min    78.000000  313.000000  78.250000  \n",
      "25%    86.000000  345.000000  86.250000  \n",
      "50%    88.000000  350.000000  87.500000  \n",
      "75%    93.500000  359.500000  89.875000  \n",
      "max    99.000000  364.000000  91.000000  \n",
      "<class 'pandas.core.frame.DataFrame'>\n",
      "Index: 7 entries, Alice to Sophia\n",
      "Data columns (total 9 columns):\n",
      " #   Column   Non-Null Count  Dtype  \n",
      "---  ------   --------------  -----  \n",
      " 0   korean   7 non-null      int64  \n",
      " 1   english  7 non-null      int64  \n",
      " 2   math     7 non-null      int64  \n",
      " 3   science  7 non-null      int64  \n",
      " 4   history  7 non-null      int64  \n",
      " 5   CSE      7 non-null      int64  \n",
      " 6   AI       7 non-null      int64  \n",
      " 7   total    7 non-null      int64  \n",
      " 8   average  7 non-null      float64\n",
      "dtypes: float64(1), int64(8)\n",
      "memory usage: 560.0+ bytes\n",
      "None\n"
     ]
    }
   ],
   "source": [
    "# 요약 통계량 출력\n",
    "\n",
    "\n",
    "# 변수 속성 출력\n",
    "\n"
   ]
  },
  {
   "cell_type": "markdown",
   "metadata": {},
   "source": [
    "#### 3-3. 평균 점수가 90점 이상인 학생들의 데이터만 추출하시오."
   ]
  },
  {
   "cell_type": "code",
   "execution_count": 38,
   "metadata": {},
   "outputs": [
    {
     "name": "stdout",
     "output_type": "stream",
     "text": [
      "평균 점수 90점 이상인 학생:\n",
      "      korean  english  math  science  history  CSE  AI  total  average\n",
      "Mike     100       76    89       95       91  100  85    360     90.0\n",
      "Emma      78       91    95      100       89   93  99    364     91.0\n"
     ]
    }
   ],
   "source": [
    "# 평균 점수 90점 이상인 학생의 index 추출\n",
    "\n",
    "\n",
    "# 평균 점수 90점 이상인 학생들의 데이터만 추출\n",
    "\n",
    "\n",
    "# 결과 출력\n",
    "\n"
   ]
  },
  {
   "cell_type": "markdown",
   "metadata": {},
   "source": [
    "#### 3-4. 가장 낮은 점수를 가진 학생을 찾으시오."
   ]
  },
  {
   "cell_type": "code",
   "execution_count": 47,
   "metadata": {},
   "outputs": [
    {
     "name": "stdout",
     "output_type": "stream",
     "text": [
      "     korean  english  math  science  history  CSE  AI  total  average\n",
      "Bob      70       85    79       79       81   89  78    313    78.25\n"
     ]
    }
   ],
   "source": [
    "# 가장 낮은 점수를 가진 학생 index 추출\n",
    "\n",
    "\n",
    "# 가장 낮은 점수를 가진 학생 추출\n",
    "\n",
    "\n",
    "# 결과 출력\n"
   ]
  },
  {
   "cell_type": "markdown",
   "metadata": {},
   "source": [
    "### 4. 직원들의 정보가 담긴 데이터프레임을 생성하고, 여러 조건에 따라 보너스를 계산하시오."
   ]
  },
  {
   "cell_type": "code",
   "execution_count": 48,
   "metadata": {},
   "outputs": [
    {
     "name": "stdout",
     "output_type": "stream",
     "text": [
      "원본 직원 데이터:\n",
      "      name   dept  years  salary_usd\n",
      "0    Alice  Sales      7       60000\n",
      "1      Bob     IT      3       52000\n",
      "2  Charlie  Sales      2       48000\n",
      "3    David     HR     10       75000\n",
      "4      Eve     IT      6       65000\n"
     ]
    }
   ],
   "source": [
    "# 직원 데이터\n",
    "employee_data = {\n",
    "    'name': ['Alice', 'Bob', 'Charlie', 'David', 'Eve'],\n",
    "    'dept': ['Sales', 'IT', 'Sales', 'HR', 'IT'],\n",
    "    'years': [7, 3, 2, 10, 6],\n",
    "    'salary_usd': [60000, 52000, 48000, 75000, 65000]\n",
    "}\n",
    "df_emp = pd.DataFrame(employee_data)\n",
    "print(\"원본 직원 데이터:\")\n",
    "print(df_emp)"
   ]
  },
  {
   "cell_type": "markdown",
   "metadata": {},
   "source": [
    "#### 4-1. 열 이름을 'dept' -> 'Department', 'years' -> 'Years_of_Service', 'salary_usd' -> 'Salary'로 변경하시오."
   ]
  },
  {
   "cell_type": "code",
   "execution_count": 49,
   "metadata": {},
   "outputs": [
    {
     "name": "stdout",
     "output_type": "stream",
     "text": [
      "열 이름 변경:\n",
      "      name Department  Years_of_Service  Salary\n",
      "0    Alice      Sales                 7   60000\n",
      "1      Bob         IT                 3   52000\n",
      "2  Charlie      Sales                 2   48000\n",
      "3    David         HR                10   75000\n",
      "4      Eve         IT                 6   65000\n"
     ]
    }
   ],
   "source": [
    "# 각 열 이름 변경\n",
    "\n",
    "\n",
    "# 결과 출력\n",
    "\n"
   ]
  },
  {
   "cell_type": "markdown",
   "metadata": {},
   "source": [
    "#### 4-2. 새로운 Bonus 열에 주어진 조건에 따라 보너스를 계산하시오.\n",
    "1. 기본 보너스: 연봉(Salary)의 5%\n",
    "2. 근속 인센티브: 근속년수(Years_of_Service) * 100 $"
   ]
  },
  {
   "cell_type": "code",
   "execution_count": 50,
   "metadata": {},
   "outputs": [
    {
     "name": "stdout",
     "output_type": "stream",
     "text": [
      "      name Department  Years_of_Service  Salary   Bonus\n",
      "0    Alice      Sales                 7   60000  3700.0\n",
      "1      Bob         IT                 3   52000  2900.0\n",
      "2  Charlie      Sales                 2   48000  2600.0\n",
      "3    David         HR                10   75000  4750.0\n",
      "4      Eve         IT                 6   65000  3850.0\n"
     ]
    }
   ],
   "source": [
    "# 새로운 Bonus열에 주어진 조건에 따라 보너스 계산\n",
    "# 기본 보너스 + 근속 인센티브\n",
    "\n",
    "\n",
    "# 결과 출력\n"
   ]
  },
  {
   "cell_type": "markdown",
   "metadata": {},
   "source": [
    "#### 4-3. Bonus 통계를 구하시오."
   ]
  },
  {
   "cell_type": "code",
   "execution_count": 51,
   "metadata": {},
   "outputs": [
    {
     "name": "stdout",
     "output_type": "stream",
     "text": [
      "평균: 3560.0\n",
      "최대: 4750.0\n",
      "최소: 2600.0\n"
     ]
    }
   ],
   "source": [
    "# 보너스의 평균, 최대, 최소 계산\n",
    "\n",
    "\n",
    "# 결과 출력\n",
    "\n"
   ]
  },
  {
   "cell_type": "markdown",
   "metadata": {},
   "source": [
    "### 5. 자율 문제\n",
    "- 새로 DataFrame 객체로 데이터를 생성하여 자신이 알아보고 싶은 것을 자유롭게 정하고 데이터 처리한 결과를 보이시오.\n",
    "  - 서브 문제 3개"
   ]
  },
  {
   "cell_type": "code",
   "execution_count": null,
   "metadata": {},
   "outputs": [],
   "source": []
  }
 ],
 "metadata": {
  "kernelspec": {
   "display_name": "Python 3 (ipykernel)",
   "language": "python",
   "name": "python3"
  },
  "language_info": {
   "codemirror_mode": {
    "name": "ipython",
    "version": 3
   },
   "file_extension": ".py",
   "mimetype": "text/x-python",
   "name": "python",
   "nbconvert_exporter": "python",
   "pygments_lexer": "ipython3",
   "version": "3.12.4"
  }
 },
 "nbformat": 4,
 "nbformat_minor": 4
}
