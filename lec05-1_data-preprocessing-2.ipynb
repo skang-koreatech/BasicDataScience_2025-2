{
 "cells": [
  {
   "cell_type": "markdown",
   "metadata": {},
   "source": [
    "# 기초데이터과학 (01분반)\n",
    "\n",
    "## 05-1. 데이터 가공 part 2"
   ]
  },
  {
   "cell_type": "markdown",
   "metadata": {},
   "source": [
    "### Acknowledgement\n",
    "#### 이 자료는 다음 서적의 내용을 바탕으로 작성되었음\n",
    "\n",
    "- 쉽게 배우는 파이썬 데이터 분석. 이지스 퍼블리싱"
   ]
  },
  {
   "cell_type": "markdown",
   "metadata": {},
   "source": [
    "- 데이터 가공에 사용되는 pandas 함수\n",
    "\n",
    "|함수|기능|\n",
    "|---|---|\n",
    "|query( ) | 행 추출하기|\n",
    "|df[ ] | 열(변수) 추출하기|\n",
    "|df.loc[ ], df.iloc[ ] | 행/열 추출하기|\n",
    "|sort_values( ) | 정렬하기|\n",
    "|assign( ) | 변수 추가하기|\n",
    "|groupby( ) | 집단별로 나누기|\n",
    "|agg( ) | 통계치 구하기|\n",
    "|merge( ) | 데이터 합치기(열)|\n",
    "|concat( ) | 데이터 합치기(행)|"
   ]
  },
  {
   "cell_type": "markdown",
   "metadata": {},
   "source": [
    "### 파생변수 추가하기\n",
    "- 변수를 조합하거나 함수를 이용해 새 변수를 만들어 분석하는 경우\n",
    "- df.assign( ) 함수 이용"
   ]
  },
  {
   "cell_type": "markdown",
   "metadata": {},
   "source": [
    "- assign( ) 함수를 쓰지 않고 변수 추가하는 방법 (3주차 내용)"
   ]
  },
  {
   "cell_type": "code",
   "execution_count": 2,
   "metadata": {},
   "outputs": [
    {
     "name": "stdout",
     "output_type": "stream",
     "text": [
      "   var1  var2\n",
      "0     4     2\n",
      "1     3     6\n",
      "2     8     1\n"
     ]
    }
   ],
   "source": [
    "import pandas as pd\n",
    "\n",
    "df = pd.DataFrame({'var1': [4,3,8],\n",
    "                  'var2': [2,6,1]})\n",
    "print(df)"
   ]
  },
  {
   "cell_type": "code",
   "execution_count": 3,
   "metadata": {},
   "outputs": [
    {
     "name": "stdout",
     "output_type": "stream",
     "text": [
      "   var1  var2  var_sum\n",
      "0     4     2        6\n",
      "1     3     6        9\n",
      "2     8     1        9\n"
     ]
    }
   ],
   "source": [
    "df['var_sum'] = df['var1'] + df['var2']\n",
    "\n",
    "print(df)"
   ]
  },
  {
   "cell_type": "markdown",
   "metadata": {},
   "source": [
    "- assign( ) 함수를 사용하는 경우 함수의 입력\n",
    "  - 새 변수명 = 변수 만드는 식"
   ]
  },
  {
   "cell_type": "code",
   "execution_count": 5,
   "metadata": {},
   "outputs": [
    {
     "name": "stdout",
     "output_type": "stream",
     "text": [
      "    id  nclass  math  english  science  total\n",
      "0    1       1    50       98       50    198\n",
      "1    2       1    60       97       60    217\n",
      "2    3       1    45       86       78    209\n",
      "3    4       1    30       98       58    186\n",
      "4    5       2    25       80       65    170\n",
      "5    6       2    50       89       98    237\n",
      "6    7       2    80       90       45    215\n",
      "7    8       2    90       78       25    193\n",
      "8    9       3    20       98       15    133\n",
      "9   10       3    50       98       45    193\n",
      "10  11       3    65       65       65    195\n",
      "11  12       3    45       85       32    162\n",
      "12  13       4    46       98       65    209\n",
      "13  14       4    48       87       12    147\n",
      "14  15       4    75       56       78    209\n",
      "15  16       4    58       98       65    221\n",
      "16  17       5    65       68       98    231\n",
      "17  18       5    80       78       90    248\n",
      "18  19       5    89       68       87    244\n",
      "19  20       5    78       83       58    219\n"
     ]
    }
   ],
   "source": [
    "exam = pd.read_csv('exam.csv')\n",
    "\n",
    "# total이라는 변수를 추가하고 그 값은 math, english, science 값의 합계로 함\n",
    "new_exam = exam.assign(total = exam['math'] + exam['english'] + exam['science']) \n",
    "print(new_exam)"
   ]
  },
  {
   "cell_type": "markdown",
   "metadata": {},
   "source": [
    "- 여러 파생 변수를 한 번에 추가하기"
   ]
  },
  {
   "cell_type": "code",
   "execution_count": 6,
   "metadata": {},
   "outputs": [
    {
     "name": "stdout",
     "output_type": "stream",
     "text": [
      "    id  nclass  math  english  science  total       mean\n",
      "0    1       1    50       98       50    198  66.000000\n",
      "1    2       1    60       97       60    217  72.333333\n",
      "2    3       1    45       86       78    209  69.666667\n",
      "3    4       1    30       98       58    186  62.000000\n",
      "4    5       2    25       80       65    170  56.666667\n",
      "5    6       2    50       89       98    237  79.000000\n",
      "6    7       2    80       90       45    215  71.666667\n",
      "7    8       2    90       78       25    193  64.333333\n",
      "8    9       3    20       98       15    133  44.333333\n",
      "9   10       3    50       98       45    193  64.333333\n",
      "10  11       3    65       65       65    195  65.000000\n",
      "11  12       3    45       85       32    162  54.000000\n",
      "12  13       4    46       98       65    209  69.666667\n",
      "13  14       4    48       87       12    147  49.000000\n",
      "14  15       4    75       56       78    209  69.666667\n",
      "15  16       4    58       98       65    221  73.666667\n",
      "16  17       5    65       68       98    231  77.000000\n",
      "17  18       5    80       78       90    248  82.666667\n",
      "18  19       5    89       68       87    244  81.333333\n",
      "19  20       5    78       83       58    219  73.000000\n"
     ]
    }
   ],
   "source": [
    "# total과 mean 변수 추가\n",
    "new_exam2 = exam.assign(total = exam['math'] + exam['english'] + exam['science'], \n",
    "                        mean = (exam['math'] + exam['english'] + exam['science']) / 3)\n",
    "print(new_exam2)"
   ]
  },
  {
   "cell_type": "markdown",
   "metadata": {},
   "source": [
    "- assign( ) 함수에 numpy.where( ) 함수 적용하기"
   ]
  },
  {
   "cell_type": "code",
   "execution_count": 7,
   "metadata": {},
   "outputs": [
    {
     "name": "stdout",
     "output_type": "stream",
     "text": [
      "    id  nclass  math  english  science  test\n",
      "0    1       1    50       98       50  fail\n",
      "1    2       1    60       97       60  pass\n",
      "2    3       1    45       86       78  pass\n",
      "3    4       1    30       98       58  fail\n",
      "4    5       2    25       80       65  pass\n",
      "5    6       2    50       89       98  pass\n",
      "6    7       2    80       90       45  fail\n",
      "7    8       2    90       78       25  fail\n",
      "8    9       3    20       98       15  fail\n",
      "9   10       3    50       98       45  fail\n",
      "10  11       3    65       65       65  pass\n",
      "11  12       3    45       85       32  fail\n",
      "12  13       4    46       98       65  pass\n",
      "13  14       4    48       87       12  fail\n",
      "14  15       4    75       56       78  pass\n",
      "15  16       4    58       98       65  pass\n",
      "16  17       5    65       68       98  pass\n",
      "17  18       5    80       78       90  pass\n",
      "18  19       5    89       68       87  pass\n",
      "19  20       5    78       83       58  fail\n"
     ]
    }
   ],
   "source": [
    "import numpy as np\n",
    "\n",
    "# test 변수 추가, science 값이 60 이상이면 'pass', 아니면 'fail' 값 할당\n",
    "new_exam3 = exam.assign(test = np.where(exam['science'] >= 60, 'pass', 'fail')) \n",
    "print(new_exam3)"
   ]
  },
  {
   "cell_type": "markdown",
   "metadata": {},
   "source": [
    "- 추가한 변수를 pandas 함수에 활용"
   ]
  },
  {
   "cell_type": "code",
   "execution_count": 8,
   "metadata": {},
   "outputs": [
    {
     "name": "stdout",
     "output_type": "stream",
     "text": [
      "    id  nclass  math  english  science  total\n",
      "8    9       3    20       98       15    133\n",
      "13  14       4    48       87       12    147\n",
      "11  12       3    45       85       32    162\n",
      "4    5       2    25       80       65    170\n",
      "3    4       1    30       98       58    186\n",
      "9   10       3    50       98       45    193\n",
      "7    8       2    90       78       25    193\n",
      "10  11       3    65       65       65    195\n",
      "0    1       1    50       98       50    198\n",
      "2    3       1    45       86       78    209\n",
      "12  13       4    46       98       65    209\n",
      "14  15       4    75       56       78    209\n",
      "6    7       2    80       90       45    215\n",
      "1    2       1    60       97       60    217\n",
      "19  20       5    78       83       58    219\n",
      "15  16       4    58       98       65    221\n",
      "16  17       5    65       68       98    231\n",
      "5    6       2    50       89       98    237\n",
      "18  19       5    89       68       87    244\n",
      "17  18       5    80       78       90    248\n"
     ]
    }
   ],
   "source": [
    "# total 변수 추가, total 기준 정렬\n",
    "new_exam4 = exam.assign(total = exam['math'] + exam['english'] + exam['science']).sort_values('total')\n",
    "print(new_exam4)"
   ]
  },
  {
   "cell_type": "markdown",
   "metadata": {},
   "source": [
    "- lambda를 이용하여 데이터 프레임 이름 줄여 쓰기\n",
    "  - assign( ) 함수를 사용할 때 데이터 프레임 이름을 반복해서 입력해야 하므로 번거로움\n",
    "  - 이름이 긴 경우 그 이름을 일일이 입력하는 것이 불편할 수 있음\n",
    "  - lambda를 이용하면 약어를 이용하여 코드를 간결하게 작성할 수 있음"
   ]
  },
  {
   "cell_type": "code",
   "execution_count": 9,
   "metadata": {},
   "outputs": [
    {
     "name": "stdout",
     "output_type": "stream",
     "text": [
      "    id  nclass  math  english  science  new\n",
      "0    1       1    50       98       50  198\n",
      "1    2       1    60       97       60  217\n",
      "2    3       1    45       86       78  209\n",
      "3    4       1    30       98       58  186\n",
      "4    5       2    25       80       65  170\n",
      "5    6       2    50       89       98  237\n",
      "6    7       2    80       90       45  215\n",
      "7    8       2    90       78       25  193\n",
      "8    9       3    20       98       15  133\n",
      "9   10       3    50       98       45  193\n",
      "10  11       3    65       65       65  195\n",
      "11  12       3    45       85       32  162\n",
      "12  13       4    46       98       65  209\n",
      "13  14       4    48       87       12  147\n",
      "14  15       4    75       56       78  209\n",
      "15  16       4    58       98       65  221\n",
      "16  17       5    65       68       98  231\n",
      "17  18       5    80       78       90  248\n",
      "18  19       5    89       68       87  244\n",
      "19  20       5    78       83       58  219\n",
      "==================================================\n",
      "    id  nclass  math  english  science  new\n",
      "0    1       1    50       98       50  198\n",
      "1    2       1    60       97       60  217\n",
      "2    3       1    45       86       78  209\n",
      "3    4       1    30       98       58  186\n",
      "4    5       2    25       80       65  170\n",
      "5    6       2    50       89       98  237\n",
      "6    7       2    80       90       45  215\n",
      "7    8       2    90       78       25  193\n",
      "8    9       3    20       98       15  133\n",
      "9   10       3    50       98       45  193\n",
      "10  11       3    65       65       65  195\n",
      "11  12       3    45       85       32  162\n",
      "12  13       4    46       98       65  209\n",
      "13  14       4    48       87       12  147\n",
      "14  15       4    75       56       78  209\n",
      "15  16       4    58       98       65  221\n",
      "16  17       5    65       68       98  231\n",
      "17  18       5    80       78       90  248\n",
      "18  19       5    89       68       87  244\n",
      "19  20       5    78       83       58  219\n"
     ]
    }
   ],
   "source": [
    "long_name = pd.read_csv('exam.csv')\n",
    "\n",
    "# long_name 직접 입력\n",
    "l1 = long_name.assign(new = long_name['math'] + long_name['english'] + long_name['science'])\n",
    "print(l1)\n",
    "\n",
    "print(\"==================================================\")\n",
    "\n",
    "# long_name 대신 x 입력\n",
    "l2 = long_name.assign(new = lambda x: x['math'] + x['english'] + x['science'])\n",
    "print(l2)"
   ]
  },
  {
   "cell_type": "markdown",
   "metadata": {},
   "source": [
    "- 여러 개의 파생 변수를 만들 때 앞에서 만든 변수를 활용해 다시 변수 만들기"
   ]
  },
  {
   "cell_type": "code",
   "execution_count": 10,
   "metadata": {},
   "outputs": [
    {
     "name": "stdout",
     "output_type": "stream",
     "text": [
      "    id  nclass  math  english  science  total       mean\n",
      "0    1       1    50       98       50    198  66.000000\n",
      "1    2       1    60       97       60    217  72.333333\n",
      "2    3       1    45       86       78    209  69.666667\n",
      "3    4       1    30       98       58    186  62.000000\n",
      "4    5       2    25       80       65    170  56.666667\n",
      "5    6       2    50       89       98    237  79.000000\n",
      "6    7       2    80       90       45    215  71.666667\n",
      "7    8       2    90       78       25    193  64.333333\n",
      "8    9       3    20       98       15    133  44.333333\n",
      "9   10       3    50       98       45    193  64.333333\n",
      "10  11       3    65       65       65    195  65.000000\n",
      "11  12       3    45       85       32    162  54.000000\n",
      "12  13       4    46       98       65    209  69.666667\n",
      "13  14       4    48       87       12    147  49.000000\n",
      "14  15       4    75       56       78    209  69.666667\n",
      "15  16       4    58       98       65    221  73.666667\n",
      "16  17       5    65       68       98    231  77.000000\n",
      "17  18       5    80       78       90    248  82.666667\n",
      "18  19       5    89       68       87    244  81.333333\n",
      "19  20       5    78       83       58    219  73.000000\n",
      "==============================================\n"
     ]
    }
   ],
   "source": [
    "e1 = exam.assign(total = exam['math'] + exam['english'] + exam['science'], \n",
    "            mean = (exam['math'] + exam['english'] + exam['science']) / 3)\n",
    "print(e1)\n",
    "print(\"==============================================\")"
   ]
  },
  {
   "cell_type": "code",
   "execution_count": 11,
   "metadata": {},
   "outputs": [
    {
     "name": "stdout",
     "output_type": "stream",
     "text": [
      "    id  nclass  math  english  science  total       mean\n",
      "0    1       1    50       98       50    198  66.000000\n",
      "1    2       1    60       97       60    217  72.333333\n",
      "2    3       1    45       86       78    209  69.666667\n",
      "3    4       1    30       98       58    186  62.000000\n",
      "4    5       2    25       80       65    170  56.666667\n",
      "5    6       2    50       89       98    237  79.000000\n",
      "6    7       2    80       90       45    215  71.666667\n",
      "7    8       2    90       78       25    193  64.333333\n",
      "8    9       3    20       98       15    133  44.333333\n",
      "9   10       3    50       98       45    193  64.333333\n",
      "10  11       3    65       65       65    195  65.000000\n",
      "11  12       3    45       85       32    162  54.000000\n",
      "12  13       4    46       98       65    209  69.666667\n",
      "13  14       4    48       87       12    147  49.000000\n",
      "14  15       4    75       56       78    209  69.666667\n",
      "15  16       4    58       98       65    221  73.666667\n",
      "16  17       5    65       68       98    231  77.000000\n",
      "17  18       5    80       78       90    248  82.666667\n",
      "18  19       5    89       68       87    244  81.333333\n",
      "19  20       5    78       83       58    219  73.000000\n",
      "==============================================\n"
     ]
    }
   ],
   "source": [
    "e2 = exam.assign(total = exam['math'] + exam['english'] + exam['science'], \n",
    "                mean = lambda x: x['total'] / 3)\n",
    "print(e2)\n",
    "print(\"==============================================\")"
   ]
  },
  {
   "cell_type": "code",
   "execution_count": 12,
   "metadata": {},
   "outputs": [
    {
     "name": "stdout",
     "output_type": "stream",
     "text": [
      "    id  nclass  math  english  science  total       mean\n",
      "0    1       1    50       98       50    198  66.000000\n",
      "1    2       1    60       97       60    217  72.333333\n",
      "2    3       1    45       86       78    209  69.666667\n",
      "3    4       1    30       98       58    186  62.000000\n",
      "4    5       2    25       80       65    170  56.666667\n",
      "5    6       2    50       89       98    237  79.000000\n",
      "6    7       2    80       90       45    215  71.666667\n",
      "7    8       2    90       78       25    193  64.333333\n",
      "8    9       3    20       98       15    133  44.333333\n",
      "9   10       3    50       98       45    193  64.333333\n",
      "10  11       3    65       65       65    195  65.000000\n",
      "11  12       3    45       85       32    162  54.000000\n",
      "12  13       4    46       98       65    209  69.666667\n",
      "13  14       4    48       87       12    147  49.000000\n",
      "14  15       4    75       56       78    209  69.666667\n",
      "15  16       4    58       98       65    221  73.666667\n",
      "16  17       5    65       68       98    231  77.000000\n",
      "17  18       5    80       78       90    248  82.666667\n",
      "18  19       5    89       68       87    244  81.333333\n",
      "19  20       5    78       83       58    219  73.000000\n"
     ]
    }
   ],
   "source": [
    "e3 = exam.assign(total = lambda x: x['math'] + x['english'] + x['science'], \n",
    "                mean = lambda x: x['total'] / 3)\n",
    "print(e3)"
   ]
  },
  {
   "cell_type": "markdown",
   "metadata": {},
   "source": [
    "#### 연습문제\n",
    "1. mpg.csv 파일을 읽어서 DataFrame 객체를 생성 - mpg.csv 파일은 미국 환경 보호국에서 공개한 데이터로 1999~2008년 미국에 출시된 자동차 234 종의 정보를 담고 있음\n",
    "2. head( ) 함수를 이용하여 mpg 데이터 앞 부분 확인\n",
    "3. info( ) 함수를 이용하여 mpg 데이터의 속성 확인\n",
    "4. describe( ) 함수를 이용하여 요약 통계량 확인\n",
    "5. cty와 hwy를 더한 값을 새로운 변수로 추가 - cty는 도시 연비, hwy는 고속도로 연비를 나타냄\n",
    "6. cty와 hwy의 평균 값을 새로운 변수로 추가\n",
    "7. 평균 연비가 가장 높은 자동차 3종의 데이터를 출력"
   ]
  },
  {
   "cell_type": "code",
   "execution_count": 14,
   "metadata": {},
   "outputs": [
    {
     "name": "stdout",
     "output_type": "stream",
     "text": [
      "  manufacturer model  displ  year  cyl       trans drv  cty  hwy fl category\n",
      "0         audi    a4    1.8  1999    4    auto(l5)   f   18   29  p  compact\n",
      "1         audi    a4    1.8  1999    4  manual(m5)   f   21   29  p  compact\n",
      "2         audi    a4    2.0  2008    4  manual(m6)   f   20   31  p  compact\n",
      "3         audi    a4    2.0  2008    4    auto(av)   f   21   30  p  compact\n",
      "4         audi    a4    2.8  1999    6    auto(l5)   f   16   26  p  compact\n"
     ]
    }
   ],
   "source": [
    "# 1\n",
    "mpg = pd.read_csv('mpg.csv')\n",
    "\n",
    "# 2\n",
    "print(mpg.head())"
   ]
  },
  {
   "cell_type": "code",
   "execution_count": 15,
   "metadata": {},
   "outputs": [
    {
     "name": "stdout",
     "output_type": "stream",
     "text": [
      "<class 'pandas.core.frame.DataFrame'>\n",
      "RangeIndex: 234 entries, 0 to 233\n",
      "Data columns (total 11 columns):\n",
      " #   Column        Non-Null Count  Dtype  \n",
      "---  ------        --------------  -----  \n",
      " 0   manufacturer  234 non-null    object \n",
      " 1   model         234 non-null    object \n",
      " 2   displ         234 non-null    float64\n",
      " 3   year          234 non-null    int64  \n",
      " 4   cyl           234 non-null    int64  \n",
      " 5   trans         234 non-null    object \n",
      " 6   drv           234 non-null    object \n",
      " 7   cty           234 non-null    int64  \n",
      " 8   hwy           234 non-null    int64  \n",
      " 9   fl            234 non-null    object \n",
      " 10  category      234 non-null    object \n",
      "dtypes: float64(1), int64(4), object(6)\n",
      "memory usage: 20.2+ KB\n",
      "None\n"
     ]
    }
   ],
   "source": [
    "# 3\n",
    "print(mpg.info())"
   ]
  },
  {
   "cell_type": "code",
   "execution_count": 16,
   "metadata": {},
   "outputs": [
    {
     "name": "stdout",
     "output_type": "stream",
     "text": [
      "            displ         year         cyl         cty         hwy\n",
      "count  234.000000   234.000000  234.000000  234.000000  234.000000\n",
      "mean     3.471795  2003.500000    5.888889   16.858974   23.440171\n",
      "std      1.291959     4.509646    1.611534    4.255946    5.954643\n",
      "min      1.600000  1999.000000    4.000000    9.000000   12.000000\n",
      "25%      2.400000  1999.000000    4.000000   14.000000   18.000000\n",
      "50%      3.300000  2003.500000    6.000000   17.000000   24.000000\n",
      "75%      4.600000  2008.000000    8.000000   19.000000   27.000000\n",
      "max      7.000000  2008.000000    8.000000   35.000000   44.000000\n"
     ]
    }
   ],
   "source": [
    "# 4\n",
    "print(mpg.describe())"
   ]
  },
  {
   "cell_type": "code",
   "execution_count": 17,
   "metadata": {},
   "outputs": [
    {
     "name": "stdout",
     "output_type": "stream",
     "text": [
      "    manufacturer   model  displ  year  cyl       trans drv  cty  hwy fl  \\\n",
      "0           audi      a4    1.8  1999    4    auto(l5)   f   18   29  p   \n",
      "1           audi      a4    1.8  1999    4  manual(m5)   f   21   29  p   \n",
      "2           audi      a4    2.0  2008    4  manual(m6)   f   20   31  p   \n",
      "3           audi      a4    2.0  2008    4    auto(av)   f   21   30  p   \n",
      "4           audi      a4    2.8  1999    6    auto(l5)   f   16   26  p   \n",
      "..           ...     ...    ...   ...  ...         ...  ..  ...  ... ..   \n",
      "229   volkswagen  passat    2.0  2008    4    auto(s6)   f   19   28  p   \n",
      "230   volkswagen  passat    2.0  2008    4  manual(m6)   f   21   29  p   \n",
      "231   volkswagen  passat    2.8  1999    6    auto(l5)   f   16   26  p   \n",
      "232   volkswagen  passat    2.8  1999    6  manual(m5)   f   18   26  p   \n",
      "233   volkswagen  passat    3.6  2008    6    auto(s6)   f   17   26  p   \n",
      "\n",
      "    category  total  total_mean  \n",
      "0    compact     47        23.5  \n",
      "1    compact     50        25.0  \n",
      "2    compact     51        25.5  \n",
      "3    compact     51        25.5  \n",
      "4    compact     42        21.0  \n",
      "..       ...    ...         ...  \n",
      "229  midsize     47        23.5  \n",
      "230  midsize     50        25.0  \n",
      "231  midsize     42        21.0  \n",
      "232  midsize     44        22.0  \n",
      "233  midsize     43        21.5  \n",
      "\n",
      "[234 rows x 13 columns]\n"
     ]
    }
   ],
   "source": [
    "# 5 cty와 hwy를 더한 값을 새로운 변수 total로 추가 - cty는 도시 연비, hwy는 고속도로 연비를 나타냄\n",
    "\n",
    "\n",
    "# 6 cty와 hwy의 평균 값을 새로운 변수 total_mean으로 추가\n",
    "\n",
    "\n",
    "# 출력\n"
   ]
  },
  {
   "cell_type": "code",
   "execution_count": 18,
   "metadata": {},
   "outputs": [
    {
     "name": "stdout",
     "output_type": "stream",
     "text": [
      "    manufacturer   model  displ  year  cyl       trans drv  cty  hwy fl  \\\n",
      "0           audi      a4    1.8  1999    4    auto(l5)   f   18   29  p   \n",
      "1           audi      a4    1.8  1999    4  manual(m5)   f   21   29  p   \n",
      "2           audi      a4    2.0  2008    4  manual(m6)   f   20   31  p   \n",
      "3           audi      a4    2.0  2008    4    auto(av)   f   21   30  p   \n",
      "4           audi      a4    2.8  1999    6    auto(l5)   f   16   26  p   \n",
      "..           ...     ...    ...   ...  ...         ...  ..  ...  ... ..   \n",
      "229   volkswagen  passat    2.0  2008    4    auto(s6)   f   19   28  p   \n",
      "230   volkswagen  passat    2.0  2008    4  manual(m6)   f   21   29  p   \n",
      "231   volkswagen  passat    2.8  1999    6    auto(l5)   f   16   26  p   \n",
      "232   volkswagen  passat    2.8  1999    6  manual(m5)   f   18   26  p   \n",
      "233   volkswagen  passat    3.6  2008    6    auto(s6)   f   17   26  p   \n",
      "\n",
      "    category  total  total_mean  \n",
      "0    compact     47        23.5  \n",
      "1    compact     50        25.0  \n",
      "2    compact     51        25.5  \n",
      "3    compact     51        25.5  \n",
      "4    compact     42        21.0  \n",
      "..       ...    ...         ...  \n",
      "229  midsize     47        23.5  \n",
      "230  midsize     50        25.0  \n",
      "231  midsize     42        21.0  \n",
      "232  midsize     44        22.0  \n",
      "233  midsize     43        21.5  \n",
      "\n",
      "[234 rows x 13 columns]\n"
     ]
    }
   ],
   "source": [
    "# 5, 6을 lambda 사용하여 수행\n"
   ]
  },
  {
   "cell_type": "code",
   "execution_count": 19,
   "metadata": {},
   "outputs": [
    {
     "name": "stdout",
     "output_type": "stream",
     "text": [
      "    manufacturer       model  displ  year  cyl       trans drv  cty  hwy fl  \\\n",
      "221   volkswagen  new beetle    1.9  1999    4  manual(m5)   f   35   44  d   \n",
      "212   volkswagen       jetta    1.9  1999    4  manual(m5)   f   33   44  d   \n",
      "222   volkswagen  new beetle    1.9  1999    4    auto(l4)   f   29   41  d   \n",
      "\n",
      "       category  total  total_mean  \n",
      "221  subcompact     79        39.5  \n",
      "212     compact     77        38.5  \n",
      "222  subcompact     70        35.0  \n"
     ]
    }
   ],
   "source": [
    "# 7 평균 연비 가장 높은 자동차 3종 출력\n",
    "\n"
   ]
  },
  {
   "cell_type": "markdown",
   "metadata": {},
   "source": [
    "### 집단별로 요약하기\n",
    "- 집단 별 평균이나 집단 별 빈도처럼 각 집단을 요약한 값을 구하는 경우 groupby( ) 함수와 agg( ) 함수 사용\n",
    "- 집단 간에 어떤 차이가 있는지 쉽게 파악 가능"
   ]
  },
  {
   "cell_type": "markdown",
   "metadata": {},
   "source": [
    "- 전체 요약 통계량 구하기"
   ]
  },
  {
   "cell_type": "code",
   "execution_count": 21,
   "metadata": {},
   "outputs": [
    {
     "name": "stdout",
     "output_type": "stream",
     "text": [
      "            math\n",
      "mean_math  57.45\n"
     ]
    }
   ],
   "source": [
    "import pandas as pd\n",
    "\n",
    "exam = pd.read_csv('exam.csv') \n",
    "\n",
    "# agg( ) 함수의 입력 : 요약값을 할당할 변수명 = ('사용할 변수명', '함수명')\n",
    "agg1 = exam.agg(mean_math = ('math', 'mean'))\n",
    "print(agg1)"
   ]
  },
  {
   "cell_type": "markdown",
   "metadata": {},
   "source": [
    "- 집단 별 요약 통계량 구하기"
   ]
  },
  {
   "cell_type": "code",
   "execution_count": 22,
   "metadata": {},
   "outputs": [
    {
     "name": "stdout",
     "output_type": "stream",
     "text": [
      "        mean_math\n",
      "nclass           \n",
      "1           46.25\n",
      "2           61.25\n",
      "3           45.00\n",
      "4           56.75\n",
      "5           78.00\n"
     ]
    }
   ],
   "source": [
    "# groupby( ) 함수 : 데이터를 범주로 나누어 구분 - 위 예에서는 nclass 값으로 그룹을 분리\n",
    "# agg( ) 함수 : 구분된 그룹별로 통계량 계산\n",
    "agg2 = exam.groupby('nclass').agg(mean_math = ('math', 'mean'))\n",
    "print(agg2)"
   ]
  },
  {
   "cell_type": "code",
   "execution_count": 23,
   "metadata": {},
   "outputs": [
    {
     "name": "stdout",
     "output_type": "stream",
     "text": [
      "   nclass  mean_math\n",
      "0       1      46.25\n",
      "1       2      61.25\n",
      "2       3      45.00\n",
      "3       4      56.75\n",
      "4       5      78.00\n"
     ]
    }
   ],
   "source": [
    "# as_index = False : nclass 변수를 인덱스로 바꾸지 않고 원래대로 유지\n",
    "agg3 = exam.groupby('nclass', as_index = False).agg(mean_math = ('math', 'mean'))\n",
    "print(agg3)"
   ]
  },
  {
   "cell_type": "markdown",
   "metadata": {},
   "source": [
    "- 여러 요약 통계량 한 번에 구하기"
   ]
  },
  {
   "cell_type": "code",
   "execution_count": 24,
   "metadata": {},
   "outputs": [
    {
     "name": "stdout",
     "output_type": "stream",
     "text": [
      "        mean_math  sum_math  median_math  n\n",
      "nclass                                     \n",
      "1           46.25       185         47.5  4\n",
      "2           61.25       245         65.0  4\n",
      "3           45.00       180         47.5  4\n",
      "4           56.75       227         53.0  4\n",
      "5           78.00       312         79.0  4\n"
     ]
    }
   ],
   "source": [
    "# nclass로 그룹을 나누어, math 변수에 대한 평균, 합계, 중간값, nclass의 개수를 계산\n",
    "agg4 = exam.groupby('nclass').agg(mean_math = ('math', 'mean'), sum_math = ('math', 'sum'), median_math = ('math', 'median'), n = ('nclass', 'count'))\n",
    "print(agg4)"
   ]
  },
  {
   "cell_type": "code",
   "execution_count": 25,
   "metadata": {},
   "outputs": [
    {
     "name": "stdout",
     "output_type": "stream",
     "text": [
      "        mean_math  sum_math  median_math  n\n",
      "nclass                                     \n",
      "1           46.25       185         47.5  4\n",
      "2           61.25       245         65.0  4\n",
      "3           45.00       180         47.5  4\n",
      "4           56.75       227         53.0  4\n",
      "5           78.00       312         79.0  4\n"
     ]
    }
   ],
   "source": [
    "# 위 코드를 아래와 같이 줄을 구분하여 작성할 수 있음\n",
    "agg5 = exam.groupby('nclass') \\\n",
    "        .agg(mean_math = ('math', 'mean'), \n",
    "             sum_math = ('math', 'sum'), \n",
    "             median_math = ('math', 'median'), \n",
    "             n = ('nclass', 'count'))\n",
    "print(agg5)"
   ]
  },
  {
   "cell_type": "markdown",
   "metadata": {},
   "source": [
    "- agg( ) 함수에 자주 사용하는 요약 통계량 함수\n",
    "  - mean( ), sum( ), std( ), median( ), min( ), max( ), count( ) "
   ]
  },
  {
   "cell_type": "markdown",
   "metadata": {},
   "source": [
    "- 집단별로 다시 집단 나누기\n",
    "  - groupby( ) 함수에 여러 변수를 지정하면 집단을 나눈 다음 다시 하위 집단으로 나눌 수 있음\n"
   ]
  },
  {
   "cell_type": "code",
   "execution_count": 26,
   "metadata": {},
   "outputs": [
    {
     "name": "stdout",
     "output_type": "stream",
     "text": [
      "                   mean_cty\n",
      "manufacturer drv           \n",
      "audi         4    16.818182\n",
      "             f    18.857143\n",
      "chevrolet    4    12.500000\n",
      "             f    18.800000\n",
      "             r    14.100000\n",
      "dodge        4    12.000000\n",
      "             f    15.818182\n",
      "ford         4    13.307692\n",
      "             r    14.750000\n",
      "honda        f    24.444444\n",
      "hyundai      f    18.642857\n",
      "jeep         4    13.500000\n",
      "land rover   4    11.500000\n",
      "lincoln      r    11.333333\n",
      "mercury      4    13.250000\n",
      "nissan       4    13.750000\n",
      "             f    20.000000\n",
      "pontiac      f    17.000000\n",
      "subaru       4    19.285714\n",
      "toyota       4    14.933333\n",
      "             f    21.368421\n",
      "volkswagen   f    20.925926\n"
     ]
    }
   ],
   "source": [
    "m1 = mpg.groupby(['manufacturer', 'drv']).agg(mean_cty = ('cty', 'mean'))\n",
    "print(m1)"
   ]
  },
  {
   "cell_type": "markdown",
   "metadata": {},
   "source": [
    "- pandas 함수 조합하기"
   ]
  },
  {
   "cell_type": "markdown",
   "metadata": {},
   "source": [
    "##### Q. mpg 데이터에서 제조 회사별로 'suv' 자동차의 도시 및 고속도로 합산 연비 평균을 구해 내림차순으로 정렬하고 1~5위까지 출력하기\n",
    "- 필요한 절차\n",
    "  - 'suv' 카테고리 자동차 추출하기\n",
    "  - 합산 연비 변수 만들기\n",
    "  - 제조 회사별로 구분하기\n",
    "  - 합산 연비 평균 구하기\n",
    "  - 내림차순 정렬하기\n",
    "  - 1~5위까지 출력하기"
   ]
  },
  {
   "cell_type": "code",
   "execution_count": 27,
   "metadata": {},
   "outputs": [
    {
     "name": "stdout",
     "output_type": "stream",
     "text": [
      "              mean_total\n",
      "manufacturer            \n",
      "subaru         21.916667\n",
      "toyota         16.312500\n",
      "nissan         15.875000\n",
      "mercury        15.625000\n",
      "jeep           15.562500\n"
     ]
    }
   ],
   "source": [
    "m2 = mpg.query('category == \"suv\"') \\\n",
    "        .assign(total = (mpg['cty'] + mpg['hwy']) / 2) \\\n",
    "        .groupby('manufacturer') \\\n",
    "        .agg(mean_total = ('total', 'mean')) \\\n",
    "        .sort_values('mean_total', ascending = False) \\\n",
    "        .head()\n",
    "print(m2)"
   ]
  },
  {
   "cell_type": "markdown",
   "metadata": {},
   "source": [
    "### 데이터 합치기\n",
    "- 여러 데이터를 합쳐 하나로 만든 다음 분석할 필요가 있는 경우\n",
    "   - 예: 중간고사 데이터와 기말고사 데이터를 합쳐 하나로 만들어 분석"
   ]
  },
  {
   "cell_type": "markdown",
   "metadata": {},
   "source": [
    "- 가로로 합치기\n",
    "  - 한 데이터에 변수(열)을 추가하는 형태\n",
    "  - 예: 중간고사 데이터에 기말고사 데이터를 합치는 경우\n",
    "- 세로로 합치기\n",
    "  - 데이터에 행을 추가하는 형태\n",
    "  - 예: 학생 3명이 먼저 시험을 보고, 나중에 다른 학생 3명이 시험을 봤을 때 두 시험 데이터를 합치는 경우\n"
   ]
  },
  {
   "cell_type": "markdown",
   "metadata": {},
   "source": [
    "- 가로로 합치기 예제"
   ]
  },
  {
   "cell_type": "code",
   "execution_count": 28,
   "metadata": {},
   "outputs": [],
   "source": [
    "# 중간고사 데이터 만들기\n",
    "test1 = pd.DataFrame({'id'      : [1, 2, 3, 4, 5],\n",
    "                      'midterm' : [60, 80, 70, 90, 85]})\n",
    "\n",
    "# 기말고사 데이터 만들기\n",
    "test2 = pd.DataFrame({'id'    : [1, 2, 3, 4, 5],\n",
    "                      'final' : [70, 83, 65, 95, 80]})"
   ]
  },
  {
   "cell_type": "code",
   "execution_count": 29,
   "metadata": {},
   "outputs": [
    {
     "name": "stdout",
     "output_type": "stream",
     "text": [
      "   id  midterm\n",
      "0   1       60\n",
      "1   2       80\n",
      "2   3       70\n",
      "3   4       90\n",
      "4   5       85\n"
     ]
    }
   ],
   "source": [
    "print(test1)"
   ]
  },
  {
   "cell_type": "code",
   "execution_count": 30,
   "metadata": {},
   "outputs": [
    {
     "name": "stdout",
     "output_type": "stream",
     "text": [
      "   id  final\n",
      "0   1     70\n",
      "1   2     83\n",
      "2   3     65\n",
      "3   4     95\n",
      "4   5     80\n"
     ]
    }
   ],
   "source": [
    "print(test2)"
   ]
  },
  {
   "cell_type": "code",
   "execution_count": 33,
   "metadata": {},
   "outputs": [
    {
     "name": "stdout",
     "output_type": "stream",
     "text": [
      "   id  midterm  final\n",
      "0   1       60     70\n",
      "1   2       80     83\n",
      "2   3       70     65\n",
      "3   4       90     95\n",
      "4   5       85     80\n"
     ]
    }
   ],
   "source": [
    "total = pd.merge(test1, test2, how = 'left', on = 'id') # id 기준으로 test1과 test2를 합쳐서 total에 할당\n",
    "print(total)"
   ]
  },
  {
   "cell_type": "markdown",
   "metadata": {},
   "source": [
    "- 다른 데이터를 활용해 변수 추가하기\n",
    "  - 예: 학생들의 시험 점수를 담은 exam 데이터를 분석하는데, 반별 담임교사 명단 데이터를 합쳐서 분석한다고 가정해보자"
   ]
  },
  {
   "cell_type": "code",
   "execution_count": 34,
   "metadata": {},
   "outputs": [
    {
     "name": "stdout",
     "output_type": "stream",
     "text": [
      "   nclass teacher\n",
      "0       1     kim\n",
      "1       2     lee\n",
      "2       3    park\n",
      "3       4    choi\n",
      "4       5    jung\n"
     ]
    }
   ],
   "source": [
    "name = pd.DataFrame({'nclass' : [1, 2, 3, 4, 5],\n",
    "                     'teacher' : ['kim', 'lee', 'park', 'choi', 'jung']})\n",
    "print(name)"
   ]
  },
  {
   "cell_type": "code",
   "execution_count": 35,
   "metadata": {},
   "outputs": [
    {
     "name": "stdout",
     "output_type": "stream",
     "text": [
      "    id  nclass  math  english  science teacher\n",
      "0    1       1    50       98       50     kim\n",
      "1    2       1    60       97       60     kim\n",
      "2    3       1    45       86       78     kim\n",
      "3    4       1    30       98       58     kim\n",
      "4    5       2    25       80       65     lee\n",
      "5    6       2    50       89       98     lee\n",
      "6    7       2    80       90       45     lee\n",
      "7    8       2    90       78       25     lee\n",
      "8    9       3    20       98       15    park\n",
      "9   10       3    50       98       45    park\n",
      "10  11       3    65       65       65    park\n",
      "11  12       3    45       85       32    park\n",
      "12  13       4    46       98       65    choi\n",
      "13  14       4    48       87       12    choi\n",
      "14  15       4    75       56       78    choi\n",
      "15  16       4    58       98       65    choi\n",
      "16  17       5    65       68       98    jung\n",
      "17  18       5    80       78       90    jung\n",
      "18  19       5    89       68       87    jung\n",
      "19  20       5    78       83       58    jung\n"
     ]
    }
   ],
   "source": [
    "# nclass 변수를 기준으로 name 데이터의 teacher 변수를 exam 데이터에 추가\n",
    "exam_new = pd.merge(exam, name, how = 'left', on = 'nclass')\n",
    "print(exam_new)"
   ]
  },
  {
   "cell_type": "markdown",
   "metadata": {},
   "source": [
    "- 세로로 합치기 예제"
   ]
  },
  {
   "cell_type": "code",
   "execution_count": 36,
   "metadata": {},
   "outputs": [],
   "source": [
    "# 학생 1~5번 시험 데이터 만들기\n",
    "group_a = pd.DataFrame({'id'   : [1, 2, 3, 4, 5],\n",
    "                        'test' : [60, 80, 70, 90, 85]})\n",
    "\n",
    "# 학생 6~10번 시험 데이터 만들기\n",
    "group_b = pd.DataFrame({'id'   : [6, 7, 8, 9, 10],\n",
    "                        'test' : [70, 83, 65, 95, 80]})"
   ]
  },
  {
   "cell_type": "code",
   "execution_count": 37,
   "metadata": {},
   "outputs": [
    {
     "name": "stdout",
     "output_type": "stream",
     "text": [
      "   id  test\n",
      "0   1    60\n",
      "1   2    80\n",
      "2   3    70\n",
      "3   4    90\n",
      "4   5    85\n"
     ]
    }
   ],
   "source": [
    "print(group_a)"
   ]
  },
  {
   "cell_type": "code",
   "execution_count": 38,
   "metadata": {},
   "outputs": [
    {
     "name": "stdout",
     "output_type": "stream",
     "text": [
      "   id  test\n",
      "0   6    70\n",
      "1   7    83\n",
      "2   8    65\n",
      "3   9    95\n",
      "4  10    80\n"
     ]
    }
   ],
   "source": [
    "print(group_b)"
   ]
  },
  {
   "cell_type": "code",
   "execution_count": 39,
   "metadata": {},
   "outputs": [
    {
     "name": "stdout",
     "output_type": "stream",
     "text": [
      "   id  test\n",
      "0   1    60\n",
      "1   2    80\n",
      "2   3    70\n",
      "3   4    90\n",
      "4   5    85\n",
      "0   6    70\n",
      "1   7    83\n",
      "2   8    65\n",
      "3   9    95\n",
      "4  10    80\n"
     ]
    }
   ],
   "source": [
    "group_all = pd.concat([group_a, group_b])\n",
    "print(group_all)\n",
    "\n",
    "# 아래 출력 결과에서 인덱스 0~4가 중복됨"
   ]
  },
  {
   "cell_type": "code",
   "execution_count": 40,
   "metadata": {},
   "outputs": [
    {
     "name": "stdout",
     "output_type": "stream",
     "text": [
      "   id  test\n",
      "0   1    60\n",
      "1   2    80\n",
      "2   3    70\n",
      "3   4    90\n",
      "4   5    85\n",
      "5   6    70\n",
      "6   7    83\n",
      "7   8    65\n",
      "8   9    95\n",
      "9  10    80\n"
     ]
    }
   ],
   "source": [
    "group_all = pd.concat([group_a, group_b], ignore_index = True) # 인덱스 번호를 새로 부여하기 위해 ignore_index = True 추가\n",
    "print(group_all)"
   ]
  },
  {
   "cell_type": "markdown",
   "metadata": {},
   "source": [
    "##### merge( ), concat( ) 함수 참고\n",
    "\n",
    "- pandas.merge(left, right, how='inner', on=None)\n",
    "  - left, right: 결합할 DateFrame\n",
    "  - how: 병합 방식 ('inner': 양쪽 테이블 모두에 존재하는 변수 조합 사용, 'outer': 양쪽 테이블에 존재하는 모든 변수 조합 사용, 'left': 왼쪽 테이블에 존재하는 모든 변수 조합 사용, 'right': 오른쪽 테이블에 존재하는 모든 변수 조합 사용)\n",
    "  - on: 병합 기준 변수"
   ]
  },
  {
   "cell_type": "markdown",
   "metadata": {},
   "source": [
    "- pandas.concat(df_list, axis=0, join='outer')\n",
    "  - df_list: 결합할 DateFrame의 리스트\n",
    "  - axis: 0이면 테이블의 행을 늘려서 결합, 1이면 테이블의 열을 늘려서 결합\n",
    "  - join: 테이블을 결합할 때 변수를 어떻게 사용할지 결정. 'outer'이면 양쪽 DataFrame 변수의 합집합으로 생성하고 'inner'이면 변수의 교집합으로 생성"
   ]
  },
  {
   "cell_type": "code",
   "execution_count": 41,
   "metadata": {},
   "outputs": [],
   "source": [
    "# 중간고사 데이터 만들기\n",
    "test1 = pd.DataFrame({'id'      : [1, 2, 3, 4, 5],\n",
    "                      'midterm' : [60, 80, 70, 90, 85]})\n",
    "\n",
    "# 기말고사 데이터 만들기\n",
    "test2 = pd.DataFrame({'id'    : [3, 4, 5, 6, 7],\n",
    "                      'final' : [70, 83, 65, 95, 80]})"
   ]
  },
  {
   "cell_type": "code",
   "execution_count": 42,
   "metadata": {},
   "outputs": [
    {
     "name": "stdout",
     "output_type": "stream",
     "text": [
      "   id  midterm  final\n",
      "0   1       60    NaN\n",
      "1   2       80    NaN\n",
      "2   3       70   70.0\n",
      "3   4       90   83.0\n",
      "4   5       85   65.0\n"
     ]
    }
   ],
   "source": [
    "# id 기준으로 test1과 test2를 합쳐서 total에 할당\n",
    "# how = 'left' : 왼쪽 DataFrame의 모든 키를 유지. 오른쪽에 없는 값은 NaN으로 채움.\n",
    "total = pd.merge(test1, test2, how = 'left', on = 'id') \n",
    "print(total)"
   ]
  },
  {
   "cell_type": "code",
   "execution_count": 43,
   "metadata": {},
   "outputs": [
    {
     "name": "stdout",
     "output_type": "stream",
     "text": [
      "   id  midterm  final\n",
      "0   3     70.0     70\n",
      "1   4     90.0     83\n",
      "2   5     85.0     65\n",
      "3   6      NaN     95\n",
      "4   7      NaN     80\n"
     ]
    }
   ],
   "source": [
    "# id 기준으로 test1과 test2를 합쳐서 total에 할당\n",
    "# how = 'right' : 오른쪽 DataFrame의 모든 키를 유지. 왼쪽에 없는 값은 NaN으로 채움.\n",
    "total = pd.merge(test1, test2, how = 'right', on = 'id')\n",
    "print(total)"
   ]
  },
  {
   "cell_type": "code",
   "execution_count": 44,
   "metadata": {},
   "outputs": [
    {
     "name": "stdout",
     "output_type": "stream",
     "text": [
      "   id  midterm  final\n",
      "0   3       70     70\n",
      "1   4       90     83\n",
      "2   5       85     65\n"
     ]
    }
   ],
   "source": [
    "# id 기준으로 test1과 test2를 합쳐서 total에 할당\n",
    "# how = 'inner' : 두 DataFrame에서 겹치는 키 값만 결과에 포함. 공통 부분만 보고 싶을 때 사용.\n",
    "total = pd.merge(test1, test2, how = 'inner', on = 'id') \n",
    "print(total)"
   ]
  },
  {
   "cell_type": "code",
   "execution_count": 45,
   "metadata": {},
   "outputs": [
    {
     "name": "stdout",
     "output_type": "stream",
     "text": [
      "   id  midterm  final\n",
      "0   1     60.0    NaN\n",
      "1   2     80.0    NaN\n",
      "2   3     70.0   70.0\n",
      "3   4     90.0   83.0\n",
      "4   5     85.0   65.0\n",
      "5   6      NaN   95.0\n",
      "6   7      NaN   80.0\n"
     ]
    }
   ],
   "source": [
    "# id 기준으로 test1과 test2를 합쳐서 total에 할당\n",
    "# how = 'outer' : 양쪽 DataFrame의 모든 키를 포함. 없는 부분은 NaN으로 채움.\n",
    "total = pd.merge(test1, test2, how = 'outer', on = 'id') \n",
    "print(total)"
   ]
  },
  {
   "cell_type": "code",
   "execution_count": null,
   "metadata": {},
   "outputs": [],
   "source": []
  }
 ],
 "metadata": {
  "kernelspec": {
   "display_name": "Python 3 (ipykernel)",
   "language": "python",
   "name": "python3"
  },
  "language_info": {
   "codemirror_mode": {
    "name": "ipython",
    "version": 3
   },
   "file_extension": ".py",
   "mimetype": "text/x-python",
   "name": "python",
   "nbconvert_exporter": "python",
   "pygments_lexer": "ipython3",
   "version": "3.12.4"
  }
 },
 "nbformat": 4,
 "nbformat_minor": 4
}
