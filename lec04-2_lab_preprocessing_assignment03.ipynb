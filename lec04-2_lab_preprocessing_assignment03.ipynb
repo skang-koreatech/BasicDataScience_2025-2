{
 "cells": [
  {
   "cell_type": "markdown",
   "metadata": {},
   "source": [
    "### 기초데이터과학 (01분반) \n",
    "\n",
    "## Programming assignment 03"
   ]
  },
  {
   "cell_type": "markdown",
   "metadata": {},
   "source": [
    "### 1. 다음에 주어진 미국의 아기 이름 데이터로 아래 문제에 맞게 코드를 작성하시오. "
   ]
  },
  {
   "cell_type": "code",
   "execution_count": 1,
   "metadata": {},
   "outputs": [],
   "source": [
    "import pandas as pd\n",
    "\n",
    "# 주어진 데이터 생성\n",
    "df = pd.read_csv('https://raw.githubusercontent.com/guipsamora/pandas_exercises/master/06_Stats/US_Baby_Names/US_Baby_Names_right.csv')"
   ]
  },
  {
   "cell_type": "markdown",
   "metadata": {},
   "source": [
    "#### 1-1. 위에서 생성한 DataFrame 객체의 앞 3개 행을 출력하시오."
   ]
  },
  {
   "cell_type": "code",
   "execution_count": 2,
   "metadata": {},
   "outputs": [
    {
     "name": "stdout",
     "output_type": "stream",
     "text": [
      "앞 3개 행:\n",
      "   Unnamed: 0     Id     Name  Year Gender State  Count\n",
      "0       11349  11350     Emma  2004      F    AK     62\n",
      "1       11350  11351  Madison  2004      F    AK     48\n",
      "2       11351  11352   Hannah  2004      F    AK     46\n"
     ]
    }
   ],
   "source": [
    "# Data 형태 확인\n",
    "# DataFrame의 앞 3개 행을 출력\n",
    "\n"
   ]
  },
  {
   "cell_type": "markdown",
   "metadata": {},
   "source": [
    "#### 1-2. DataFrame 객체의 앞 행과 열 개수를 출력하시오."
   ]
  },
  {
   "cell_type": "code",
   "execution_count": 3,
   "metadata": {},
   "outputs": [
    {
     "name": "stdout",
     "output_type": "stream",
     "text": [
      "행과 열 개수:\n",
      "(1016395, 7)\n"
     ]
    }
   ],
   "source": [
    "# DataFrame의 행과 열 개수를 출력\n",
    "\n"
   ]
  },
  {
   "cell_type": "markdown",
   "metadata": {},
   "source": [
    "#### 1-3. DataFrame 객체에서 State가 'AK'이고, Count가 50 이상인 데이터를 추출하여 출력하시오."
   ]
  },
  {
   "cell_type": "code",
   "execution_count": 7,
   "metadata": {},
   "outputs": [
    {
     "name": "stdout",
     "output_type": "stream",
     "text": [
      "      Unnamed: 0     Id       Name  Year Gender State  Count\n",
      "0          11349  11350       Emma  2004      F    AK     62\n",
      "204        11553  11554    Madison  2005      F    AK     53\n",
      "639        11988  11989   Isabella  2007      F    AK     52\n",
      "838        12187  12188       Emma  2008      F    AK     51\n",
      "1063       12412  12413   Isabella  2009      F    AK     57\n",
      "1275       12624  12625     Sophia  2010      F    AK     60\n",
      "1276       12625  12626       Emma  2010      F    AK     51\n",
      "1277       12626  12627   Isabella  2010      F    AK     51\n",
      "1497       12846  12847     Olivia  2011      F    AK     60\n",
      "1498       12847  12848       Emma  2011      F    AK     56\n",
      "1499       12848  12849   Isabella  2011      F    AK     50\n",
      "1732       13081  13082       Emma  2012      F    AK     57\n",
      "1733       13082  13083     Sophia  2012      F    AK     56\n",
      "1948       13297  13298       Emma  2013      F    AK     57\n",
      "1949       13298  13299     Sophia  2013      F    AK     50\n",
      "2173       13522  13523       Emma  2014      F    AK     50\n",
      "2404       24076  24077      Ethan  2004      M    AK     65\n",
      "2405       24077  24078     Joseph  2004      M    AK     63\n",
      "2406       24078  24079      James  2004      M    AK     59\n",
      "2407       24079  24080      Jacob  2004      M    AK     54\n",
      "2408       24080  24081     Samuel  2004      M    AK     54\n",
      "2409       24081  24082      Tyler  2004      M    AK     54\n",
      "2610       24282  24283      Ethan  2005      M    AK     63\n",
      "2611       24283  24284      Jacob  2005      M    AK     58\n",
      "2612       24284  24285     Joshua  2005      M    AK     55\n",
      "2613       24285  24286    Michael  2005      M    AK     52\n",
      "2826       24498  24499      James  2006      M    AK     67\n",
      "2827       24499  24500      Jacob  2006      M    AK     55\n",
      "2828       24500  24501    Michael  2006      M    AK     55\n",
      "2829       24501  24502     Andrew  2006      M    AK     52\n",
      "2830       24502  24503      Ethan  2006      M    AK     52\n",
      "2831       24503  24504      Logan  2006      M    AK     51\n",
      "3043       24715  24716      Aiden  2007      M    AK     58\n",
      "3044       24716  24717      Ethan  2007      M    AK     53\n",
      "3045       24717  24718      Logan  2007      M    AK     53\n",
      "3046       24718  24719  Alexander  2007      M    AK     52\n",
      "3047       24719  24720    Michael  2007      M    AK     52\n",
      "3270       24942  24943      James  2008      M    AK     67\n",
      "3271       24943  24944      Jacob  2008      M    AK     60\n",
      "3272       24944  24945    Michael  2008      M    AK     58\n",
      "3273       24945  24946      Ethan  2008      M    AK     53\n",
      "3274       24946  24947      Tyler  2008      M    AK     50\n",
      "3507       25179  25180    Michael  2009      M    AK     58\n",
      "3508       25180  25181      Ethan  2009      M    AK     57\n",
      "3744       25416  25417    William  2010      M    AK     57\n",
      "3745       25417  25418      James  2010      M    AK     51\n",
      "3746       25418  25419    Michael  2010      M    AK     51\n",
      "3747       25419  25420      Logan  2010      M    AK     50\n",
      "3984       25656  25657      Mason  2011      M    AK     58\n",
      "3985       25657  25658      James  2011      M    AK     52\n",
      "3986       25658  25659    William  2011      M    AK     52\n",
      "4224       25896  25897      James  2012      M    AK     52\n",
      "4476       26148  26149       Liam  2013      M    AK     63\n",
      "4731       26403  26404       Liam  2014      M    AK     65\n",
      "4732       26404  26405      James  2014      M    AK     53\n"
     ]
    }
   ],
   "source": [
    "# State가 'AK'이고, Count가 50 이상인 데이터를 추출\n",
    "\n",
    "\n",
    "# 추출한 데이터 출력\n"
   ]
  },
  {
   "cell_type": "markdown",
   "metadata": {},
   "source": [
    "#### 1-4. 1-3에서 추출한 데이터에서 Gender가 'F'인 데이터를 추출하여 출력하시오."
   ]
  },
  {
   "cell_type": "code",
   "execution_count": 8,
   "metadata": {},
   "outputs": [
    {
     "name": "stdout",
     "output_type": "stream",
     "text": [
      "      Unnamed: 0     Id      Name  Year Gender State  Count\n",
      "0          11349  11350      Emma  2004      F    AK     62\n",
      "204        11553  11554   Madison  2005      F    AK     53\n",
      "639        11988  11989  Isabella  2007      F    AK     52\n",
      "838        12187  12188      Emma  2008      F    AK     51\n",
      "1063       12412  12413  Isabella  2009      F    AK     57\n",
      "1275       12624  12625    Sophia  2010      F    AK     60\n",
      "1276       12625  12626      Emma  2010      F    AK     51\n",
      "1277       12626  12627  Isabella  2010      F    AK     51\n",
      "1497       12846  12847    Olivia  2011      F    AK     60\n",
      "1498       12847  12848      Emma  2011      F    AK     56\n",
      "1499       12848  12849  Isabella  2011      F    AK     50\n",
      "1732       13081  13082      Emma  2012      F    AK     57\n",
      "1733       13082  13083    Sophia  2012      F    AK     56\n",
      "1948       13297  13298      Emma  2013      F    AK     57\n",
      "1949       13298  13299    Sophia  2013      F    AK     50\n",
      "2173       13522  13523      Emma  2014      F    AK     50\n"
     ]
    }
   ],
   "source": [
    "# 그 중 Gender가 'F'인 데이터를 추출\n",
    "\n",
    "\n",
    "# 추출한 데이터 출력\n"
   ]
  },
  {
   "cell_type": "markdown",
   "metadata": {},
   "source": [
    "#### 1-5. 1-4에서 추출한 데이터에서 Count 기준으로 내림차순 정렬하여 출력하시오."
   ]
  },
  {
   "cell_type": "code",
   "execution_count": 9,
   "metadata": {},
   "outputs": [
    {
     "name": "stdout",
     "output_type": "stream",
     "text": [
      "      Unnamed: 0     Id      Name  Year Gender State  Count\n",
      "0          11349  11350      Emma  2004      F    AK     62\n",
      "1275       12624  12625    Sophia  2010      F    AK     60\n",
      "1497       12846  12847    Olivia  2011      F    AK     60\n",
      "1063       12412  12413  Isabella  2009      F    AK     57\n",
      "1732       13081  13082      Emma  2012      F    AK     57\n",
      "1948       13297  13298      Emma  2013      F    AK     57\n",
      "1498       12847  12848      Emma  2011      F    AK     56\n",
      "1733       13082  13083    Sophia  2012      F    AK     56\n",
      "204        11553  11554   Madison  2005      F    AK     53\n",
      "639        11988  11989  Isabella  2007      F    AK     52\n",
      "838        12187  12188      Emma  2008      F    AK     51\n",
      "1276       12625  12626      Emma  2010      F    AK     51\n",
      "1277       12626  12627  Isabella  2010      F    AK     51\n",
      "1499       12848  12849  Isabella  2011      F    AK     50\n",
      "1949       13298  13299    Sophia  2013      F    AK     50\n",
      "2173       13522  13523      Emma  2014      F    AK     50\n"
     ]
    }
   ],
   "source": [
    "# 추출한 데이터를 Count 기준으로 내림차순 정렬\n",
    "\n",
    "\n",
    "# 정렬된 데이터 출력\n"
   ]
  },
  {
   "cell_type": "markdown",
   "metadata": {},
   "source": [
    "#### 1-6. 1-5에서 정렬한 데이터에서 Name과 Count 열만 추출하여 출력하시오."
   ]
  },
  {
   "cell_type": "code",
   "execution_count": 10,
   "metadata": {},
   "outputs": [
    {
     "name": "stdout",
     "output_type": "stream",
     "text": [
      "          Name  Count\n",
      "0         Emma     62\n",
      "1275    Sophia     60\n",
      "1497    Olivia     60\n",
      "1063  Isabella     57\n",
      "1732      Emma     57\n",
      "1948      Emma     57\n",
      "1498      Emma     56\n",
      "1733    Sophia     56\n",
      "204    Madison     53\n",
      "639   Isabella     52\n",
      "838       Emma     51\n",
      "1276      Emma     51\n",
      "1277  Isabella     51\n",
      "1499  Isabella     50\n",
      "1949    Sophia     50\n",
      "2173      Emma     50\n"
     ]
    }
   ],
   "source": [
    "# 'Name'과 'Count' 열만 추출\n",
    "\n",
    "\n",
    "# 추출한 데이터 출력\n"
   ]
  },
  {
   "cell_type": "markdown",
   "metadata": {},
   "source": [
    "### 2. 미국의 아기 이름 데이터로 동일한 State와 Name을 가진 중복된 데이터를 제거하고 Count를 기준으로 내림차순 정렬하시오."
   ]
  },
  {
   "cell_type": "code",
   "execution_count": 11,
   "metadata": {},
   "outputs": [],
   "source": [
    "import pandas as pd\n",
    "\n",
    "# 주어진 데이터 생성\n",
    "df = pd.read_csv('https://raw.githubusercontent.com/guipsamora/pandas_exercises/master/06_Stats/US_Baby_Names/US_Baby_Names_right.csv')"
   ]
  },
  {
   "cell_type": "markdown",
   "metadata": {},
   "source": [
    "#### 2-1. Name 변수의 값이 Emma인 데이터를 출력하시오."
   ]
  },
  {
   "cell_type": "code",
   "execution_count": 12,
   "metadata": {},
   "outputs": [
    {
     "name": "stdout",
     "output_type": "stream",
     "text": [
      "         Unnamed: 0       Id  Name  Year Gender State  Count\n",
      "0             11349    11350  Emma  2004      F    AK     62\n",
      "205           11554    11555  Emma  2005      F    AK     49\n",
      "418           11767    11768  Emma  2006      F    AK     49\n",
      "644           11993    11994  Emma  2007      F    AK     41\n",
      "838           12187    12188  Emma  2008      F    AK     51\n",
      "...             ...      ...   ...   ...    ...   ...    ...\n",
      "1013854     5633487  5633488  Emma  2010      F    WY     23\n",
      "1013983     5633616  5633617  Emma  2011      F    WY     43\n",
      "1014104     5633737  5633738  Emma  2012      F    WY     40\n",
      "1014222     5633855  5633856  Emma  2013      F    WY     30\n",
      "1014362     5633995  5633996  Emma  2014      F    WY     32\n",
      "\n",
      "[566 rows x 7 columns]\n"
     ]
    }
   ],
   "source": [
    "# 데이터 중복 체크하기\n",
    "# 'Name' 속성이 'Emma'인 데이터 추출\n",
    "\n",
    "\n",
    "# 추출한 데이터 출력\n"
   ]
  },
  {
   "cell_type": "markdown",
   "metadata": {},
   "source": [
    "#### 2-2. State 별로 중복된 Name을 제거하고 출력하시오."
   ]
  },
  {
   "cell_type": "code",
   "execution_count": 13,
   "metadata": {},
   "outputs": [
    {
     "name": "stdout",
     "output_type": "stream",
     "text": [
      "         Unnamed: 0       Id     Name  Year Gender State  Count\n",
      "0             11349    11350     Emma  2004      F    AK     62\n",
      "1             11350    11351  Madison  2004      F    AK     48\n",
      "2             11351    11352   Hannah  2004      F    AK     46\n",
      "3             11352    11353    Grace  2004      F    AK     44\n",
      "4             11353    11354    Emily  2004      F    AK     41\n",
      "...             ...      ...      ...   ...    ...   ...    ...\n",
      "1016379     5647410  5647411    Kyson  2014      M    WY      5\n",
      "1016385     5647416  5647417     Odin  2014      M    WY      5\n",
      "1016387     5647418  5647419  Raymond  2014      M    WY      5\n",
      "1016392     5647423  5647424     Tyce  2014      M    WY      5\n",
      "1016394     5647425  5647426   Waylon  2014      M    WY      5\n",
      "\n",
      "[167628 rows x 7 columns]\n"
     ]
    }
   ],
   "source": [
    "# State 별로 중복된 Name 제거\n",
    "# pandas.DataFrame.drop_duplicates 함수 활용. drop_duplicates 함수 이용 방법은 찾아볼 것\n",
    "\n",
    "\n",
    "# 중복 제거된 데이터 출력\n"
   ]
  },
  {
   "cell_type": "markdown",
   "metadata": {},
   "source": [
    "#### 2-3. 위에서 중복 제거된 데이터를 Count 값을 기준으로 내림차순 정렬하고 여기서 State, Name, Count 변수 값만 추출하여 출력하시오."
   ]
  },
  {
   "cell_type": "code",
   "execution_count": 14,
   "metadata": {},
   "outputs": [
    {
     "name": "stdout",
     "output_type": "stream",
     "text": [
      "        State      Name  Count\n",
      "62272      CA     Emily   3416\n",
      "107420     CA     Jacob   3336\n",
      "62273      CA    Ashley   2926\n",
      "107425     CA   Matthew   2863\n",
      "62274      CA  Samantha   2489\n",
      "...       ...       ...    ...\n",
      "510465     MO    Adelia      5\n",
      "510464     MO     Adela      5\n",
      "510463     MO  Addalynn      5\n",
      "510459     MO     Aanya      5\n",
      "1016394    WY    Waylon      5\n",
      "\n",
      "[167628 rows x 3 columns]\n"
     ]
    }
   ],
   "source": [
    "# Count 기준으로 내림차순 정렬\n",
    "\n",
    "\n",
    "# 'State', 'Name', 'Count' 변수(열)만 추출하여 출력\n"
   ]
  },
  {
   "cell_type": "markdown",
   "metadata": {},
   "source": [
    "### 3. 치폴레(chipotle) 판매 기록을 담고 있는 데이터를 이용하여 'Steak Burrito'와 'Chicken Bowl'의 평균 판매 가격을 계산할 수 있도록 아래 문제에 맞게 코드를 작성하시오."
   ]
  },
  {
   "cell_type": "code",
   "execution_count": 15,
   "metadata": {},
   "outputs": [],
   "source": [
    "import pandas as pd\n",
    "\n",
    "# 주어진 데이터 생성\n",
    "chipotle_url = 'https://raw.githubusercontent.com/justmarkham/DAT8/master/data/chipotle.tsv'\n",
    "chipo = pd.read_csv(chipotle_url, sep = '\\t')"
   ]
  },
  {
   "cell_type": "code",
   "execution_count": 16,
   "metadata": {},
   "outputs": [
    {
     "name": "stdout",
     "output_type": "stream",
     "text": [
      "<class 'pandas.core.frame.DataFrame'>\n",
      "RangeIndex: 4622 entries, 0 to 4621\n",
      "Data columns (total 5 columns):\n",
      " #   Column              Non-Null Count  Dtype \n",
      "---  ------              --------------  ----- \n",
      " 0   order_id            4622 non-null   int64 \n",
      " 1   quantity            4622 non-null   int64 \n",
      " 2   item_name           4622 non-null   object\n",
      " 3   choice_description  3376 non-null   object\n",
      " 4   item_price          4622 non-null   object\n",
      "dtypes: int64(2), object(3)\n",
      "memory usage: 180.7+ KB\n"
     ]
    }
   ],
   "source": [
    "# 데이터의 변수(열) 속성 출력\n",
    "chipo.info()"
   ]
  },
  {
   "cell_type": "markdown",
   "metadata": {},
   "source": [
    "#### 3-1. 위에서 생성한 DataFrame 객체의 앞 5개 행을 출력하시오. "
   ]
  },
  {
   "cell_type": "code",
   "execution_count": 17,
   "metadata": {},
   "outputs": [
    {
     "name": "stdout",
     "output_type": "stream",
     "text": [
      "앞 5개 행:\n",
      "   order_id  quantity                              item_name  \\\n",
      "0         1         1           Chips and Fresh Tomato Salsa   \n",
      "1         1         1                                   Izze   \n",
      "2         1         1                       Nantucket Nectar   \n",
      "3         1         1  Chips and Tomatillo-Green Chili Salsa   \n",
      "4         2         2                           Chicken Bowl   \n",
      "\n",
      "                                  choice_description item_price  \n",
      "0                                                NaN     $2.39   \n",
      "1                                       [Clementine]     $3.39   \n",
      "2                                            [Apple]     $3.39   \n",
      "3                                                NaN     $2.39   \n",
      "4  [Tomatillo-Red Chili Salsa (Hot), [Black Beans...    $16.98   \n"
     ]
    }
   ],
   "source": [
    "# Data 형태 확인\n",
    "# DataFrame chipo의 앞 5개 행을 출력\n",
    "\n"
   ]
  },
  {
   "cell_type": "markdown",
   "metadata": {},
   "source": [
    "#### 3-2. 위의 DataFrame에서 item_name 값이 'Steak Burrito'인 데이터와 'Chicken Bowl'인 데이터를 각각 추출하여 출력하시오."
   ]
  },
  {
   "cell_type": "code",
   "execution_count": 19,
   "metadata": {},
   "outputs": [
    {
     "name": "stdout",
     "output_type": "stream",
     "text": [
      "Steak Burrito\n",
      "      order_id  quantity      item_name  \\\n",
      "7            4         1  Steak Burrito   \n",
      "9            5         1  Steak Burrito   \n",
      "31          16         1  Steak Burrito   \n",
      "43          20         1  Steak Burrito   \n",
      "46          21         1  Steak Burrito   \n",
      "...        ...       ...            ...   \n",
      "4546      1807         1  Steak Burrito   \n",
      "4607      1829         1  Steak Burrito   \n",
      "4610      1830         1  Steak Burrito   \n",
      "4617      1833         1  Steak Burrito   \n",
      "4618      1833         1  Steak Burrito   \n",
      "\n",
      "                                     choice_description item_price  \n",
      "7     [Tomatillo Red Chili Salsa, [Fajita Vegetables...    $11.75   \n",
      "9     [Fresh Tomato Salsa, [Rice, Black Beans, Pinto...     $9.25   \n",
      "31    [[Roasted Chili Corn Salsa (Medium), Fresh Tom...     $8.99   \n",
      "43    [Fresh Tomato Salsa, [Rice, Pinto Beans, Chees...    $11.75   \n",
      "46    [Tomatillo-Red Chili Salsa (Hot), [Rice, Fajit...     $8.99   \n",
      "...                                                 ...        ...  \n",
      "4546  [Fresh Tomato Salsa, [Rice, Black Beans, Cheese]]     $9.25   \n",
      "4607  [Tomatillo Green Chili Salsa, [Rice, Cheese, S...    $11.75   \n",
      "4610  [Fresh Tomato Salsa, [Rice, Sour Cream, Cheese...    $11.75   \n",
      "4617  [Fresh Tomato Salsa, [Rice, Black Beans, Sour ...    $11.75   \n",
      "4618  [Fresh Tomato Salsa, [Rice, Sour Cream, Cheese...    $11.75   \n",
      "\n",
      "[368 rows x 5 columns]\n",
      "Chicken Bowl\n",
      "      order_id  quantity     item_name  \\\n",
      "4            2         2  Chicken Bowl   \n",
      "5            3         1  Chicken Bowl   \n",
      "13           7         1  Chicken Bowl   \n",
      "19          10         1  Chicken Bowl   \n",
      "26          13         1  Chicken Bowl   \n",
      "...        ...       ...           ...   \n",
      "4590      1825         1  Chicken Bowl   \n",
      "4591      1825         1  Chicken Bowl   \n",
      "4595      1826         1  Chicken Bowl   \n",
      "4599      1827         1  Chicken Bowl   \n",
      "4604      1828         1  Chicken Bowl   \n",
      "\n",
      "                                     choice_description item_price  \n",
      "4     [Tomatillo-Red Chili Salsa (Hot), [Black Beans...    $16.98   \n",
      "5     [Fresh Tomato Salsa (Mild), [Rice, Cheese, Sou...    $10.98   \n",
      "13    [Fresh Tomato Salsa, [Fajita Vegetables, Rice,...    $11.25   \n",
      "19    [Tomatillo Red Chili Salsa, [Fajita Vegetables...     $8.75   \n",
      "26    [Roasted Chili Corn Salsa (Medium), [Pinto Bea...     $8.49   \n",
      "...                                                 ...        ...  \n",
      "4590  [Roasted Chili Corn Salsa, [Rice, Black Beans,...    $11.25   \n",
      "4591  [Tomatillo Red Chili Salsa, [Rice, Black Beans...     $8.75   \n",
      "4595  [Tomatillo Green Chili Salsa, [Rice, Black Bea...     $8.75   \n",
      "4599      [Roasted Chili Corn Salsa, [Cheese, Lettuce]]     $8.75   \n",
      "4604  [Fresh Tomato Salsa, [Rice, Black Beans, Chees...     $8.75   \n",
      "\n",
      "[726 rows x 5 columns]\n"
     ]
    }
   ],
   "source": [
    "# chipo 데이터에서 item_name이 'Steak Burrito'인 데이터 추출\n",
    "\n",
    "\n",
    "# chipo 데이터에서 item_name이 'Chicken Bowl'인 데이터 추출\n",
    "\n",
    "\n",
    "# 결과 출력\n",
    "\n",
    "\n"
   ]
  },
  {
   "cell_type": "markdown",
   "metadata": {},
   "source": [
    "#### 3-3. 'item_price' 값이 실수형 데이터가 아니므로 연산이 가능하도록 item_price 값에서 '$'를 제거하고 자료형을 float로 변환하여 출력하시오."
   ]
  },
  {
   "cell_type": "code",
   "execution_count": 21,
   "metadata": {},
   "outputs": [
    {
     "name": "stdout",
     "output_type": "stream",
     "text": [
      "7       11.75\n",
      "9        9.25\n",
      "31       8.99\n",
      "43      11.75\n",
      "46       8.99\n",
      "        ...  \n",
      "4546     9.25\n",
      "4607    11.75\n",
      "4610    11.75\n",
      "4617    11.75\n",
      "4618    11.75\n",
      "Name: item_price_numeric, Length: 368, dtype: float64\n",
      "4       16.98\n",
      "5       10.98\n",
      "13      11.25\n",
      "19       8.75\n",
      "26       8.49\n",
      "        ...  \n",
      "4590    11.25\n",
      "4591     8.75\n",
      "4595     8.75\n",
      "4599     8.75\n",
      "4604     8.75\n",
      "Name: item_price_numeric, Length: 726, dtype: float64\n"
     ]
    }
   ],
   "source": [
    "# 3-2에서 추출한 'Steak Burrito' 데이터의 사본 생성\n",
    "\n",
    "\n",
    "# 3-2에서 추출한 'Chicken Bowl' 데이터의 사본 생성\n",
    "\n",
    "\n",
    "# 계산을 위해서 'item_price' 값에서 '$'를 제거하고 자료형을 float로 변환한 값을 'item_price_numeric' 변수로 추가\n",
    "# '$' 제거는 pandas.Series.str.replace 함수 활용 - '$'를 ''로 대체하는 방식\n",
    "# 자료형 변환은 pandas.DataFrame.astype 함수 활용 - astype() 함수에 원하는 자료형을 지정\n",
    "# 1. Steak Burrio 데이터 사본에 'item_price_numeric' 변수 추가\n",
    "\n",
    "\n",
    "# 2. Chicken Bowl 데이터 사본에 'item_price_numeric' 변수 추가\n",
    "\n",
    "\n",
    "# 'Steak Burrito' 데이터의 'item_price_numeric' 열만 출력\n",
    "\n",
    "\n",
    "# 'Chicken Bowl' 데이터의 'item_price_numeric' 열만 출력\n"
   ]
  },
  {
   "cell_type": "markdown",
   "metadata": {},
   "source": [
    "#### 3-4. 'Steak Burrito'와 'Chicken Bowl'의 총 판매 금액을 계산하여 출력하시오."
   ]
  },
  {
   "cell_type": "code",
   "execution_count": 22,
   "metadata": {},
   "outputs": [
    {
     "name": "stdout",
     "output_type": "stream",
     "text": [
      "'Steak Burrito'의 총 판매 금액: 3851.4300000000003\n",
      "'Chicken Bowl'의 총 판매 금액: 7342.7300000000005\n"
     ]
    }
   ],
   "source": [
    "# 'Steak Burrito'의 총 판매 금액 계산\n",
    "\n",
    "\n",
    "# 'Chicken Bowl'의 총 판매 금액 계산\n",
    "\n",
    "\n",
    "# 결과 출력\n",
    "\n"
   ]
  },
  {
   "cell_type": "markdown",
   "metadata": {},
   "source": [
    "#### 3-5. 'Steak Burrito'와 'Chicken Bowl'의 총 판매 수량을 계산하여 출력하시오."
   ]
  },
  {
   "cell_type": "code",
   "execution_count": 23,
   "metadata": {},
   "outputs": [
    {
     "name": "stdout",
     "output_type": "stream",
     "text": [
      "'Steak Burrito'의 총 판매 수량: 386\n",
      "'Chicken Bowl'의 총 판매 수량: 761\n"
     ]
    }
   ],
   "source": [
    "# 'Steak Burrito'의 총 판매 수량 계산\n",
    "\n",
    "\n",
    "# 'Chicken Bowl'의 총 판매 수량 계산\n",
    "\n",
    "\n",
    "# 결과 출력\n",
    "\n"
   ]
  },
  {
   "cell_type": "markdown",
   "metadata": {},
   "source": [
    "#### 3-6. 'Steak Burrito'와 'Chicken Bowl'의 평균 판매 가격을 계산하여 출력하시오."
   ]
  },
  {
   "cell_type": "code",
   "execution_count": 24,
   "metadata": {},
   "outputs": [
    {
     "name": "stdout",
     "output_type": "stream",
     "text": [
      "'Steak Burrito'의 평균 판매 가격: $9.98 \n",
      "'Chicken Bowl'의 평균 판매 가격: $9.65 \n"
     ]
    }
   ],
   "source": [
    "# 'Steak Burrito'의 평균 가격 계산\n",
    "# 총 판매 금액을 총 판매 수량으로 나누고 round() 함수를 이용해 소수점 둘째 자리까지 구함\n",
    "\n",
    "\n",
    "# 'Chicken Bowl'의 평균 가격 계산\n",
    "# 총 판매 금액을 총 판매 수량으로 나누고 round() 함수를 이용해 소수점 둘째 자리까지 구함\n",
    "\n",
    "\n",
    "# 결과 출력\n",
    "\n"
   ]
  },
  {
   "cell_type": "markdown",
   "metadata": {},
   "source": [
    "### 4. 축구 데이터(EURO 2012)로 아래 문제에 맞게 코드를 작성하시오."
   ]
  },
  {
   "cell_type": "code",
   "execution_count": 25,
   "metadata": {},
   "outputs": [],
   "source": [
    "import pandas as pd\n",
    "\n",
    "# 주어진 데이터 생성\n",
    "df = pd.read_csv('https://raw.githubusercontent.com/guipsamora/pandas_exercises/refs/heads/master/02_Filtering_%26_Sorting/Euro12/Euro_2012_stats_TEAM.csv')"
   ]
  },
  {
   "cell_type": "markdown",
   "metadata": {},
   "source": [
    "#### 4-1. 유로 2012 결승에 진출했던 두 팀(스페인, 이탈리아)의 데이터를 추출하시오."
   ]
  },
  {
   "cell_type": "code",
   "execution_count": 26,
   "metadata": {},
   "outputs": [
    {
     "name": "stdout",
     "output_type": "stream",
     "text": [
      "     Team  Goals  Shots on target  Shots off target Shooting Accuracy  \\\n",
      "7   Italy      6               34                45             43.0%   \n",
      "13  Spain     12               42                33             55.9%   \n",
      "\n",
      "   % Goals-to-shots  Total shots (inc. Blocked)  Hit Woodwork  Penalty goals  \\\n",
      "7              7.5%                         110             2              0   \n",
      "13            16.0%                         100             0              1   \n",
      "\n",
      "    Penalties not scored  ...  Saves made  Saves-to-shots ratio  Fouls Won  \\\n",
      "7                      0  ...          20                 74.1%        101   \n",
      "13                     0  ...          15                 93.8%        102   \n",
      "\n",
      "   Fouls Conceded  Offsides  Yellow Cards  Red Cards  Subs on  Subs off  \\\n",
      "7              89        16            16          0       18        18   \n",
      "13             83        19            11          0       17        17   \n",
      "\n",
      "    Players Used  \n",
      "7             19  \n",
      "13            18  \n",
      "\n",
      "[2 rows x 35 columns]\n"
     ]
    }
   ],
   "source": [
    "# 스페인, 이탈리아 데이터 추출\n",
    "\n",
    "\n",
    "# 출력\n"
   ]
  },
  {
   "cell_type": "markdown",
   "metadata": {},
   "source": [
    "#### 4-2. 스페인, 이탈리아의 슛 관련 데이터를 추출하시오. (shot이 포함되어있는 열)"
   ]
  },
  {
   "cell_type": "code",
   "execution_count": 27,
   "metadata": {},
   "outputs": [
    {
     "name": "stdout",
     "output_type": "stream",
     "text": [
      "     Team  Shots on target  Shots off target % Goals-to-shots  \\\n",
      "7   Italy               34                45             7.5%   \n",
      "13  Spain               42                33            16.0%   \n",
      "\n",
      "    Total shots (inc. Blocked) Saves-to-shots ratio  \n",
      "7                          110                74.1%  \n",
      "13                         100                93.8%  \n"
     ]
    }
   ],
   "source": [
    "# 대소문자 구분 없이 shot이 포함된 열 추출\n",
    "# shot이 포함된 열 이름을 리스트로 생성\n",
    "\n",
    "\n",
    "# shot이 포함된 열과 'Team' 열만 추출\n",
    "\n",
    "\n",
    "# 결과 출력\n"
   ]
  },
  {
   "cell_type": "markdown",
   "metadata": {},
   "source": [
    "#### 4-3. 가장 많이 골(Goals)을 넣은 상위 5개 팀을 유효슈팅(Shots on traget) 기준 내림차순으로 보이시오."
   ]
  },
  {
   "cell_type": "code",
   "execution_count": 28,
   "metadata": {},
   "outputs": [
    {
     "name": "stdout",
     "output_type": "stream",
     "text": [
      "        Team  Goals  Shots on target\n",
      "13     Spain     12               42\n",
      "7      Italy      6               34\n",
      "5    Germany     10               32\n",
      "10  Portugal      6               22\n",
      "3    England      5               11\n"
     ]
    }
   ],
   "source": [
    "# 정렬을 통해 가장 많이 골을 넣은 상위 5개 팀 추출\n",
    "\n",
    "\n",
    "# 위에서 추출된 팀 데이터에서 유효슈팅 기준 내림차순으로 정렬\n",
    "\n",
    "\n",
    "# 결과 출력 (아래 출력된 컬럼만 출력)\n"
   ]
  },
  {
   "cell_type": "markdown",
   "metadata": {},
   "source": [
    "#### 4-4. 가장 패스(Passes)가 적은 5 팀을 추출하고, 패스 정확도(Passing Accuracy) 기준 내림차순으로 보이시오."
   ]
  },
  {
   "cell_type": "code",
   "execution_count": 29,
   "metadata": {},
   "outputs": [
    {
     "name": "stdout",
     "output_type": "stream",
     "text": [
      "                   Team  Passes Passing Accuracy\n",
      "14               Sweden    1192            80.9%\n",
      "9                Poland    1059            80.4%\n",
      "0               Croatia    1076            76.9%\n",
      "6                Greece    1187            76.7%\n",
      "11  Republic of Ireland     851            71.2%\n"
     ]
    }
   ],
   "source": [
    "# 정렬을 통해 가장 패스가 적은 5팀 추출\n",
    "\n",
    "\n",
    "# 위에서 추출된 팀 데이터에서 패스 정확도 기준 내림차순으로 정렬\n",
    "\n",
    "\n",
    "# 결과 출력 (아래 출력된 컬럼만 출력)\n"
   ]
  },
  {
   "cell_type": "markdown",
   "metadata": {},
   "source": [
    "#### 4-5. 전체 골키퍼 선방 비율(Saves-to-shots ratio)의 평균을 구하고, 평균 이상 팀과 평균 이하 팀을 보이시오."
   ]
  },
  {
   "cell_type": "code",
   "execution_count": 30,
   "metadata": {},
   "outputs": [
    {
     "name": "stdout",
     "output_type": "stream",
     "text": [
      "전체 골키퍼 선방 비율의 평균: 70.98124999999999\n",
      "평균 이상 팀:\n",
      "        Team  Saves-to-shots ratio\n",
      "0    Croatia                  81.3\n",
      "3    England                  88.1\n",
      "7      Italy                  74.1\n",
      "10  Portugal                  71.5\n",
      "12    Russia                  77.0\n",
      "13     Spain                  93.8\n",
      "15   Ukraine                  76.5\n",
      "평균 이하 팀:\n",
      "                   Team  Saves-to-shots ratio\n",
      "1        Czech Republic                  60.1\n",
      "2               Denmark                  66.7\n",
      "4                France                  54.6\n",
      "5               Germany                  62.6\n",
      "6                Greece                  65.1\n",
      "8           Netherlands                  70.6\n",
      "9                Poland                  66.7\n",
      "11  Republic of Ireland                  65.4\n",
      "14               Sweden                  61.6\n"
     ]
    }
   ],
   "source": [
    "# 전체 골키퍼 선방 비율의 평균 계산\n",
    "# 선방 비율 값에서 % 제거 후 float로 변환 (3-3에서 사용한 replace() 함수와 astype() 함수 사용)\n",
    "\n",
    "\n",
    "# 선방 비율 평균 계산 후 출력\n",
    "\n",
    "\n",
    "\n",
    "# 선방 비율 평균 이상 팀과 평균 이하 팀 추출\n",
    "\n",
    "\n",
    "\n",
    "# 결과 출력\n",
    "\n"
   ]
  },
  {
   "cell_type": "markdown",
   "metadata": {},
   "source": [
    "### 5. 자율 문제\n",
    "- 1번 ~ 4번 문제의 데이터 중 하나를 선정하여 4주차까지 학습한 내용을 적용하여 데이터 처리한 결과를 보이시오.\n",
    "  - 서브 문제 3개"
   ]
  },
  {
   "cell_type": "code",
   "execution_count": null,
   "metadata": {},
   "outputs": [],
   "source": []
  }
 ],
 "metadata": {
  "kernelspec": {
   "display_name": "Python 3 (ipykernel)",
   "language": "python",
   "name": "python3"
  },
  "language_info": {
   "codemirror_mode": {
    "name": "ipython",
    "version": 3
   },
   "file_extension": ".py",
   "mimetype": "text/x-python",
   "name": "python",
   "nbconvert_exporter": "python",
   "pygments_lexer": "ipython3",
   "version": "3.12.4"
  }
 },
 "nbformat": 4,
 "nbformat_minor": 4
}
