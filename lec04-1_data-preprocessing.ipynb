{
 "cells": [
  {
   "cell_type": "markdown",
   "metadata": {},
   "source": [
    "# 기초데이터과학 (01분반)\n",
    "\n",
    "## 04-1. 데이터 가공 part 2"
   ]
  },
  {
   "cell_type": "markdown",
   "metadata": {},
   "source": [
    "### Acknowledgement\n",
    "#### 이 자료는 다음 서적의 내용을 바탕으로 작성되었음\n",
    "\n",
    "- 쉽게 배우는 파이썬 데이터 분석. 이지스 퍼블리싱"
   ]
  },
  {
   "cell_type": "markdown",
   "metadata": {},
   "source": [
    "### 데이터 전처리 (data preprocessing)"
   ]
  },
  {
   "cell_type": "markdown",
   "metadata": {},
   "source": [
    "- 주어진 데이터를 분석에 적합하게 가공하는 작업\n",
    "  - 데이터 일부를 추출하거나\n",
    "  - 데이터를 종류 별로 나누거나\n",
    "  - 여러 데이터를 합치는 등의 과정"
   ]
  },
  {
   "cell_type": "markdown",
   "metadata": {},
   "source": [
    "- 데이터 전처리를 통하여 원하는 대로 데이터를 가공할 수 있어야 목적에 맞게 데이터를 분석할 수 있음"
   ]
  },
  {
   "cell_type": "markdown",
   "metadata": {},
   "source": [
    "- 데이터 가공에 사용되는 pandas 함수\n",
    "\n",
    "|함수|기능|\n",
    "|---|---|\n",
    "|query( ) | 행 추출하기|\n",
    "|df[ ] | 열(변수) 추출하기|\n",
    "|df.loc[ ], df.iloc[ ] | 행/열 추출하기|\n",
    "|sort_values( ) | 정렬하기|\n",
    "|assign( ) | 변수 추가하기|\n",
    "|groupby( ) | 집단별로 나누기|\n",
    "|agg( ) | 통계치 구하기|\n",
    "|merge( ) | 데이터 합치기(열)|\n",
    "|concat( ) | 데이터 합치기(행)|"
   ]
  },
  {
   "cell_type": "markdown",
   "metadata": {},
   "source": [
    "### 특정 데이터 행만 추출하기\n",
    "- 데이터 중 일부 데이터만 뽑아서 분석하는 경우 특정 조건에 맞는 데이터를 추출하는 것이 필요"
   ]
  },
  {
   "cell_type": "markdown",
   "metadata": {},
   "source": [
    "- 데이터 추출하기 예를 살펴보기 위해 exam.csv 파일의 데이터를 이용"
   ]
  },
  {
   "cell_type": "code",
   "execution_count": 1,
   "metadata": {},
   "outputs": [
    {
     "name": "stdout",
     "output_type": "stream",
     "text": [
      "    id  nclass  math  english  science\n",
      "0    1       1    50       98       50\n",
      "1    2       1    60       97       60\n",
      "2    3       1    45       86       78\n",
      "3    4       1    30       98       58\n",
      "4    5       2    25       80       65\n",
      "5    6       2    50       89       98\n",
      "6    7       2    80       90       45\n",
      "7    8       2    90       78       25\n",
      "8    9       3    20       98       15\n",
      "9   10       3    50       98       45\n",
      "10  11       3    65       65       65\n",
      "11  12       3    45       85       32\n",
      "12  13       4    46       98       65\n",
      "13  14       4    48       87       12\n",
      "14  15       4    75       56       78\n",
      "15  16       4    58       98       65\n",
      "16  17       5    65       68       98\n",
      "17  18       5    80       78       90\n",
      "18  19       5    89       68       87\n",
      "19  20       5    78       83       58\n"
     ]
    }
   ],
   "source": [
    "import pandas as pd\n",
    "exam = pd.read_csv('exam.csv')\n",
    "print(exam)"
   ]
  },
  {
   "cell_type": "markdown",
   "metadata": {},
   "source": [
    "- 20명의 학생의 math, english, science 점수 데이터이고 5개 반(nclass) 학생 데이터로 구분되어 있다는 것을 알 수 있음"
   ]
  },
  {
   "cell_type": "markdown",
   "metadata": {},
   "source": [
    "#### 변수에 비교 연산자와 논리 연산자 등을 이용하여 조건에 맞는 행만 추출하기\n",
    "##### query 함수에 다양한 조건을 적용할 수 있음\n",
    "- ==, !=, >, <, >=, <=\n",
    "- | (or 조건)\n",
    "- & (and 조건)\n",
    "- in (포함)"
   ]
  },
  {
   "cell_type": "code",
   "execution_count": 2,
   "metadata": {},
   "outputs": [
    {
     "name": "stdout",
     "output_type": "stream",
     "text": [
      "   id  nclass  math  english  science\n",
      "0   1       1    50       98       50\n",
      "1   2       1    60       97       60\n",
      "2   3       1    45       86       78\n",
      "3   4       1    30       98       58\n"
     ]
    }
   ],
   "source": [
    "c1 = exam.query('nclass == 1') # nclass의 값이 1인 행만 추출\n",
    "print(c1)"
   ]
  },
  {
   "cell_type": "code",
   "execution_count": 3,
   "metadata": {},
   "outputs": [
    {
     "name": "stdout",
     "output_type": "stream",
     "text": [
      "   id  nclass  math  english  science\n",
      "0   1       1    50       98       50\n",
      "1   2       1    60       97       60\n",
      "2   3       1    45       86       78\n",
      "3   4       1    30       98       58\n",
      "4   5       2    25       80       65\n",
      "5   6       2    50       89       98\n",
      "6   7       2    80       90       45\n",
      "7   8       2    90       78       25\n"
     ]
    }
   ],
   "source": [
    "c12 = exam.query('nclass == 1 | nclass == 2') # nclass의 값이 1이거나 2인 행만 추출\n",
    "print(c12)"
   ]
  },
  {
   "cell_type": "code",
   "execution_count": 4,
   "metadata": {},
   "outputs": [
    {
     "name": "stdout",
     "output_type": "stream",
     "text": [
      "    id  nclass  math  english  science\n",
      "4    5       2    25       80       65\n",
      "5    6       2    50       89       98\n",
      "6    7       2    80       90       45\n",
      "7    8       2    90       78       25\n",
      "8    9       3    20       98       15\n",
      "9   10       3    50       98       45\n",
      "10  11       3    65       65       65\n",
      "11  12       3    45       85       32\n",
      "12  13       4    46       98       65\n",
      "13  14       4    48       87       12\n",
      "14  15       4    75       56       78\n",
      "15  16       4    58       98       65\n"
     ]
    }
   ],
   "source": [
    "c = exam.query('nclass != 1 & nclass != 5') # nclass의 값이 1과 5가 아닌 행만 추출\n",
    "print(c)"
   ]
  },
  {
   "cell_type": "code",
   "execution_count": 5,
   "metadata": {},
   "outputs": [
    {
     "name": "stdout",
     "output_type": "stream",
     "text": [
      "    id  nclass  math  english  science\n",
      "6    7       2    80       90       45\n",
      "7    8       2    90       78       25\n",
      "14  15       4    75       56       78\n",
      "17  18       5    80       78       90\n",
      "18  19       5    89       68       87\n",
      "19  20       5    78       83       58\n"
     ]
    }
   ],
   "source": [
    "m70 = exam.query('math > 70') # math 변수 값이 70 초과인 행만 추출 \n",
    "print(m70)"
   ]
  },
  {
   "cell_type": "code",
   "execution_count": 6,
   "metadata": {},
   "outputs": [
    {
     "name": "stdout",
     "output_type": "stream",
     "text": [
      "   id  nclass  math  english  science\n",
      "0   1       1    50       98       50\n",
      "2   3       1    45       86       78\n",
      "3   4       1    30       98       58\n"
     ]
    }
   ],
   "source": [
    "cm = exam.query('nclass == 1 & math <= 50') # nclass 값이 1이면서 math 값이 50 이하인 행만 추출\n",
    "print(cm)"
   ]
  },
  {
   "cell_type": "code",
   "execution_count": 7,
   "metadata": {},
   "outputs": [
    {
     "name": "stdout",
     "output_type": "stream",
     "text": [
      "   id  nclass  math  english  science\n",
      "8   9       3    20       98       15\n",
      "9  10       3    50       98       45\n"
     ]
    }
   ],
   "source": [
    "ce = exam.query('nclass in [2, 3] & english > 90') # nclass 값이 2 또는 3이면서 english 값이 90 초과인 행만 추출\n",
    "print(ce)"
   ]
  },
  {
   "cell_type": "markdown",
   "metadata": {},
   "source": [
    "- 문자열 값을 갖는 변수의 조건 설정\n",
    "  - 전체 조건을 명시할 때 사용하는 따옴표와 변수의 문자열 값을 지정할 때 사용하는 따옴표를 서로 다르게 입력해야 함 "
   ]
  },
  {
   "cell_type": "code",
   "execution_count": 8,
   "metadata": {},
   "outputs": [
    {
     "name": "stdout",
     "output_type": "stream",
     "text": [
      "    state  year  pop\n",
      "0    Ohio  2000  1.5\n",
      "1    Ohio  2001  1.7\n",
      "2    Ohio  2002  3.6\n",
      "3  Nevada  2001  2.4\n",
      "4  Nevada  2002  2.9\n",
      "5  Nevada  2003  3.2\n"
     ]
    }
   ],
   "source": [
    "data = {'state': ['Ohio', 'Ohio', 'Ohio', 'Nevada', 'Nevada', 'Nevada'],\n",
    "        'year': [2000, 2001, 2002, 2001, 2002, 2003],\n",
    "        'pop': [1.5, 1.7, 3.6, 2.4, 2.9, 3.2]}\n",
    "\n",
    "df = pd.DataFrame(data)\n",
    "print(df)"
   ]
  },
  {
   "cell_type": "code",
   "execution_count": 9,
   "metadata": {},
   "outputs": [
    {
     "name": "stdout",
     "output_type": "stream",
     "text": [
      "  state  year  pop\n",
      "0  Ohio  2000  1.5\n",
      "1  Ohio  2001  1.7\n",
      "2  Ohio  2002  3.6\n"
     ]
    }
   ],
   "source": [
    "ohio = df.query('state == \"Ohio\"') # state 값이 'Ohio'인 행만 추출\n",
    "print(ohio)"
   ]
  },
  {
   "cell_type": "code",
   "execution_count": 10,
   "metadata": {},
   "outputs": [
    {
     "name": "stdout",
     "output_type": "stream",
     "text": [
      "    state  year  pop\n",
      "3  Nevada  2001  2.4\n",
      "4  Nevada  2002  2.9\n",
      "5  Nevada  2003  3.2\n"
     ]
    }
   ],
   "source": [
    "nev = df.query(\"state == 'Nevada'\")\n",
    "print(nev)"
   ]
  },
  {
   "cell_type": "markdown",
   "metadata": {},
   "source": [
    "#### 연습문제\n",
    "1. exam 데이터에서 math, english, science 점수가 모두 60 이상인 데이터만 추출\n",
    "2. exam 데이터에서 3반 학생 중 math, science 점수가 40 이하인 데이터만 추출"
   ]
  },
  {
   "cell_type": "markdown",
   "metadata": {},
   "source": [
    "### 특정 데이터 열(변수)만 추출하기\n",
    "- 데이터의 여러 변수 중 일부 관심 있는 변수만 추출하여 사용하는 경우\n"
   ]
  },
  {
   "cell_type": "code",
   "execution_count": 11,
   "metadata": {},
   "outputs": [
    {
     "name": "stdout",
     "output_type": "stream",
     "text": [
      "0     50\n",
      "1     60\n",
      "2     45\n",
      "3     30\n",
      "4     25\n",
      "5     50\n",
      "6     80\n",
      "7     90\n",
      "8     20\n",
      "9     50\n",
      "10    65\n",
      "11    45\n",
      "12    46\n",
      "13    48\n",
      "14    75\n",
      "15    58\n",
      "16    65\n",
      "17    80\n",
      "18    89\n",
      "19    78\n",
      "Name: math, dtype: int64\n"
     ]
    }
   ],
   "source": [
    "import pandas as pd\n",
    "\n",
    "exam = pd.read_csv('exam.csv') \n",
    "\n",
    "m = exam['math'] # math 변수(열)만 추출\n",
    "print(m)"
   ]
  },
  {
   "cell_type": "markdown",
   "metadata": {},
   "source": [
    "- 위의 경우 결과가 DataFrame이 아니라 Series 형태임\n",
    "- DataFrame 형태를 유지하기 위해서는 [ ]를 한번 더 써줘야 함"
   ]
  },
  {
   "cell_type": "code",
   "execution_count": 12,
   "metadata": {},
   "outputs": [
    {
     "name": "stdout",
     "output_type": "stream",
     "text": [
      "    math\n",
      "0     50\n",
      "1     60\n",
      "2     45\n",
      "3     30\n",
      "4     25\n",
      "5     50\n",
      "6     80\n",
      "7     90\n",
      "8     20\n",
      "9     50\n",
      "10    65\n",
      "11    45\n",
      "12    46\n",
      "13    48\n",
      "14    75\n",
      "15    58\n",
      "16    65\n",
      "17    80\n",
      "18    89\n",
      "19    78\n"
     ]
    }
   ],
   "source": [
    "mdf = exam[['math']]\n",
    "print(mdf)"
   ]
  },
  {
   "cell_type": "code",
   "execution_count": 13,
   "metadata": {},
   "outputs": [
    {
     "name": "stdout",
     "output_type": "stream",
     "text": [
      "    math  english\n",
      "0     50       98\n",
      "1     60       97\n",
      "2     45       86\n",
      "3     30       98\n",
      "4     25       80\n",
      "5     50       89\n",
      "6     80       90\n",
      "7     90       78\n",
      "8     20       98\n",
      "9     50       98\n",
      "10    65       65\n",
      "11    45       85\n",
      "12    46       98\n",
      "13    48       87\n",
      "14    75       56\n",
      "15    58       98\n",
      "16    65       68\n",
      "17    80       78\n",
      "18    89       68\n",
      "19    78       83\n"
     ]
    }
   ],
   "source": [
    "me = exam[['math', 'english']] # math와 english 변수 2개 열을 추출\n",
    "print(me)"
   ]
  },
  {
   "cell_type": "markdown",
   "metadata": {},
   "source": [
    "- 변수 제거하기: 특정 변수를 제외하고 나머지 모든 변수를 추출하는 경우\n",
    "  - df.drop( ) 함수 이용"
   ]
  },
  {
   "cell_type": "code",
   "execution_count": 14,
   "metadata": {},
   "outputs": [
    {
     "name": "stdout",
     "output_type": "stream",
     "text": [
      "    id  nclass  english  science\n",
      "0    1       1       98       50\n",
      "1    2       1       97       60\n",
      "2    3       1       86       78\n",
      "3    4       1       98       58\n",
      "4    5       2       80       65\n",
      "5    6       2       89       98\n",
      "6    7       2       90       45\n",
      "7    8       2       78       25\n",
      "8    9       3       98       15\n",
      "9   10       3       98       45\n",
      "10  11       3       65       65\n",
      "11  12       3       85       32\n",
      "12  13       4       98       65\n",
      "13  14       4       87       12\n",
      "14  15       4       56       78\n",
      "15  16       4       98       65\n",
      "16  17       5       68       98\n",
      "17  18       5       78       90\n",
      "18  19       5       68       87\n",
      "19  20       5       83       58\n"
     ]
    }
   ],
   "source": [
    "nomath = exam.drop(columns = 'math') # math 변수 제거\n",
    "print(nomath)"
   ]
  },
  {
   "cell_type": "code",
   "execution_count": 15,
   "metadata": {},
   "outputs": [
    {
     "name": "stdout",
     "output_type": "stream",
     "text": [
      "    id  english  science\n",
      "0    1       98       50\n",
      "1    2       97       60\n",
      "2    3       86       78\n",
      "3    4       98       58\n",
      "4    5       80       65\n",
      "5    6       89       98\n",
      "6    7       90       45\n",
      "7    8       78       25\n",
      "8    9       98       15\n",
      "9   10       98       45\n",
      "10  11       65       65\n",
      "11  12       85       32\n",
      "12  13       98       65\n",
      "13  14       87       12\n",
      "14  15       56       78\n",
      "15  16       98       65\n",
      "16  17       68       98\n",
      "17  18       78       90\n",
      "18  19       68       87\n",
      "19  20       83       58\n"
     ]
    }
   ],
   "source": [
    "ncm = exam.drop(columns = ['nclass', 'math']) # nclass, math 변수 제거\n",
    "print(ncm)"
   ]
  },
  {
   "cell_type": "markdown",
   "metadata": {},
   "source": [
    "- query( ) 함수와 [ ]  조합하여 조건에 맞는 일부 데이터 추출하기\n",
    "  - 행과 열 모두에서 일부만 추출"
   ]
  },
  {
   "cell_type": "code",
   "execution_count": 16,
   "metadata": {},
   "outputs": [
    {
     "name": "stdout",
     "output_type": "stream",
     "text": [
      "    id  math\n",
      "0    1    50\n",
      "1    2    60\n",
      "5    6    50\n",
      "6    7    80\n",
      "7    8    90\n",
      "9   10    50\n",
      "10  11    65\n",
      "14  15    75\n",
      "15  16    58\n",
      "16  17    65\n",
      "17  18    80\n",
      "18  19    89\n",
      "19  20    78\n"
     ]
    }
   ],
   "source": [
    "temp = exam.query('math >= 50')[['id', 'math']] # math 값이 50 이상인 행에서 id, math 변수만 추출\n",
    "print(temp)"
   ]
  },
  {
   "cell_type": "markdown",
   "metadata": {},
   "source": [
    "#### 연습문제\n",
    "1. exam 데이터에서 4, 5반 학생의 english 값만 추출\n",
    "2. exam 데이터에서 english 값이 70 이상인 학생의 math, science 값만 추출"
   ]
  },
  {
   "cell_type": "markdown",
   "metadata": {},
   "source": [
    "### df.loc[ ], df.iloc[ ]을 이용하여 특정 행과 열 데이터 추출하기\n",
    "- df.loc[ ]\n",
    "  - DataFrame의 인덱스를 이용하여 행과 열을 추출할 수 있음\n",
    "- df.iloc[ ]\n",
    "   - 인덱스 번호를 지정하여 행과 열을 추출할 수 있음"
   ]
  },
  {
   "cell_type": "markdown",
   "metadata": {},
   "source": [
    "- 차이점\n",
    "|기능 | df.loc[ ] | df.iloc[ ]|\n",
    "|---|---|---|\n",
    "|행 추출 인덱스 | 문자열, 번호 | 번호|\n",
    "|열 추출 인덱스 | 문자열 | 번호|\n",
    "|조건 지정해서 행 추출 | O | X|\n",
    "|연속된 행 추출 x:y| 이상:이하 | 이상:미만|"
   ]
  },
  {
   "cell_type": "markdown",
   "metadata": {},
   "source": [
    "#### df.loc[ ] 사용 예"
   ]
  },
  {
   "cell_type": "code",
   "execution_count": 17,
   "metadata": {},
   "outputs": [
    {
     "name": "stdout",
     "output_type": "stream",
     "text": [
      "      var1  var2\n",
      "kim      1     4\n",
      "lee      2     5\n",
      "park     3     6\n"
     ]
    }
   ],
   "source": [
    "import pandas as pd\n",
    "\n",
    "df = pd.DataFrame({'var1':[1, 2, 3],\n",
    "                   'var2':[4, 5, 6]},\n",
    "                   index=['kim', 'lee', 'park']) # index 매개변수를 이용하여 DataFrame에 인덱스 문자열 지정\n",
    "print(df)"
   ]
  },
  {
   "cell_type": "markdown",
   "metadata": {},
   "source": [
    "- 인덱스 문자열을 지정하여 행 추출"
   ]
  },
  {
   "cell_type": "code",
   "execution_count": 18,
   "metadata": {},
   "outputs": [
    {
     "name": "stdout",
     "output_type": "stream",
     "text": [
      "     var1  var2\n",
      "kim     1     4\n"
     ]
    }
   ],
   "source": [
    "kim = df.loc[['kim']] # 인덱스 값이 'kim'인 행 추출\n",
    "print(kim)"
   ]
  },
  {
   "cell_type": "code",
   "execution_count": 19,
   "metadata": {},
   "outputs": [
    {
     "name": "stdout",
     "output_type": "stream",
     "text": [
      "     var1  var2\n",
      "kim     1     4\n",
      "lee     2     5\n"
     ]
    }
   ],
   "source": [
    "kl = df.loc[['kim', 'lee']] # 인덱스 값이 'kim', 'lee'인 행 추출\n",
    "print(kl)"
   ]
  },
  {
   "cell_type": "markdown",
   "metadata": {},
   "source": [
    "- 인덱스 문자열을 지정하여 열 추출"
   ]
  },
  {
   "cell_type": "code",
   "execution_count": 20,
   "metadata": {},
   "outputs": [
    {
     "name": "stdout",
     "output_type": "stream",
     "text": [
      "kim    1\n",
      "Name: var1, dtype: int64\n"
     ]
    }
   ],
   "source": [
    "k1 = df.loc[['kim'], 'var1'] # 인덱스 값이 'kim'인 행에서 'var1' 변수 값 추출\n",
    "print(k1)"
   ]
  },
  {
   "cell_type": "code",
   "execution_count": 21,
   "metadata": {},
   "outputs": [
    {
     "name": "stdout",
     "output_type": "stream",
     "text": [
      "lee     5\n",
      "park    6\n",
      "Name: var2, dtype: int64\n"
     ]
    }
   ],
   "source": [
    "lp = df.loc[['lee', 'park'], 'var2'] # 인덱스 값이 'lee', 'park'인 행에서 'var2' 변수 값 추출\n",
    "print(lp)"
   ]
  },
  {
   "cell_type": "code",
   "execution_count": 22,
   "metadata": {},
   "outputs": [
    {
     "name": "stdout",
     "output_type": "stream",
     "text": [
      "kim     1\n",
      "lee     2\n",
      "park    3\n",
      "Name: var1, dtype: int64\n"
     ]
    }
   ],
   "source": [
    "v1 = df.loc[:, 'var1'] # 모든 행에서 'var1' 변수 값 추출\n",
    "print(v1)"
   ]
  },
  {
   "cell_type": "markdown",
   "metadata": {},
   "source": [
    "- 인덱스 번호를 지정하여 행 추출"
   ]
  },
  {
   "cell_type": "code",
   "execution_count": 23,
   "metadata": {},
   "outputs": [
    {
     "name": "stdout",
     "output_type": "stream",
     "text": [
      "id          1\n",
      "nclass      1\n",
      "math       50\n",
      "english    98\n",
      "science    50\n",
      "Name: 0, dtype: int64\n"
     ]
    }
   ],
   "source": [
    "import pandas as pd\n",
    "\n",
    "exam = pd.read_csv('exam.csv') \n",
    "\n",
    "s0 = exam.loc[0] # 인덱스 번호가 0인 행 추출\n",
    "print(s0)"
   ]
  },
  {
   "cell_type": "code",
   "execution_count": 24,
   "metadata": {},
   "outputs": [
    {
     "name": "stdout",
     "output_type": "stream",
     "text": [
      "   id  nclass  math  english  science\n",
      "0   1       1    50       98       50\n"
     ]
    }
   ],
   "source": [
    "df0 = exam.loc[[0]] # 인덱스 번호가 0인 행 추출 (DataFrame 형태를 유지)\n",
    "print(df0)"
   ]
  },
  {
   "cell_type": "code",
   "execution_count": 25,
   "metadata": {},
   "outputs": [
    {
     "name": "stdout",
     "output_type": "stream",
     "text": [
      "   id  nclass  math  english  science\n",
      "0   1       1    50       98       50\n",
      "1   2       1    60       97       60\n",
      "2   3       1    45       86       78\n"
     ]
    }
   ],
   "source": [
    "df012 = exam.loc[[0, 1, 2]] # 인덱스 번호가 0, 1, 2인 행 추출\n",
    "print(df012)"
   ]
  },
  {
   "cell_type": "code",
   "execution_count": 26,
   "metadata": {},
   "outputs": [
    {
     "name": "stdout",
     "output_type": "stream",
     "text": [
      "   id  nclass  math  english  science\n",
      "0   1       1    50       98       50\n",
      "1   2       1    60       97       60\n",
      "2   3       1    45       86       78\n",
      "3   4       1    30       98       58\n"
     ]
    }
   ],
   "source": [
    "df03 = exam.loc[0:3] # 인덱스 번호가 0부터 3인 행 추출 (0, 3 모두 포함)\n",
    "print(df03)"
   ]
  },
  {
   "cell_type": "code",
   "execution_count": 27,
   "metadata": {},
   "outputs": [
    {
     "name": "stdout",
     "output_type": "stream",
     "text": [
      "    id  nclass  math  english  science\n",
      "15  16       4    58       98       65\n",
      "16  17       5    65       68       98\n",
      "17  18       5    80       78       90\n",
      "18  19       5    89       68       87\n",
      "19  20       5    78       83       58\n"
     ]
    }
   ],
   "source": [
    "df15 = exam.loc[15:] # 인덱스 번호가 15부터 마지막까지 행 추출\n",
    "print(df15)"
   ]
  },
  {
   "cell_type": "code",
   "execution_count": 28,
   "metadata": {},
   "outputs": [
    {
     "name": "stdout",
     "output_type": "stream",
     "text": [
      "   id  nclass  math  english  science\n",
      "0   1       1    50       98       50\n",
      "1   2       1    60       97       60\n",
      "2   3       1    45       86       78\n"
     ]
    }
   ],
   "source": [
    "df2 = exam.loc[:2] # 인덱스 번호가 처음부터 2까지 행 추출\n",
    "print(df2)"
   ]
  },
  {
   "cell_type": "markdown",
   "metadata": {},
   "source": [
    "- 조건을 충족하는 행 추출"
   ]
  },
  {
   "cell_type": "code",
   "execution_count": 29,
   "metadata": {},
   "outputs": [
    {
     "name": "stdout",
     "output_type": "stream",
     "text": [
      "   id  nclass  math  english  science\n",
      "0   1       1    50       98       50\n",
      "1   2       1    60       97       60\n",
      "2   3       1    45       86       78\n",
      "3   4       1    30       98       58\n"
     ]
    }
   ],
   "source": [
    "n1 = exam.loc[exam['nclass'] == 1] # exam의 'nclass' 변수 값이 1인 행 추출\n",
    "print(n1)"
   ]
  },
  {
   "cell_type": "code",
   "execution_count": 30,
   "metadata": {},
   "outputs": [
    {
     "name": "stdout",
     "output_type": "stream",
     "text": [
      "    id  nclass  math  english  science\n",
      "6    7       2    80       90       45\n",
      "7    8       2    90       78       25\n",
      "14  15       4    75       56       78\n",
      "17  18       5    80       78       90\n",
      "18  19       5    89       68       87\n",
      "19  20       5    78       83       58\n"
     ]
    }
   ],
   "source": [
    "m70 = exam.loc[exam['math'] >= 70] # exam의 'math' 변수 값이 70 이상인 행 추출\n",
    "print(m70)"
   ]
  },
  {
   "cell_type": "code",
   "execution_count": 31,
   "metadata": {},
   "outputs": [
    {
     "name": "stdout",
     "output_type": "stream",
     "text": [
      "    math  science\n",
      "8     20       15\n",
      "9     50       45\n",
      "10    65       65\n",
      "11    45       32\n"
     ]
    }
   ],
   "source": [
    "nms = exam.loc[exam['nclass'] == 3, ['math', 'science']] # 'nclass' 변수 값이 3인 행에서 'math', 'science' 열 추출\n",
    "print(nms)"
   ]
  },
  {
   "cell_type": "code",
   "execution_count": 32,
   "metadata": {},
   "outputs": [
    {
     "name": "stdout",
     "output_type": "stream",
     "text": [
      "   id  math\n",
      "0   1    50\n",
      "1   2    60\n",
      "2   3    45\n",
      "3   4    30\n",
      "4   5    25\n",
      "5   6    50\n"
     ]
    }
   ],
   "source": [
    "idm = exam.loc[0:5, ['id','math']] # 인덱스 0부터 5까지 행에서 'id', 'math' 열 추출\n",
    "print(idm)"
   ]
  },
  {
   "cell_type": "markdown",
   "metadata": {},
   "source": [
    "#### df.iloc[ ] 사용 예"
   ]
  },
  {
   "cell_type": "markdown",
   "metadata": {},
   "source": [
    "- 인덱스 번호를 지정해 행 추출하기"
   ]
  },
  {
   "cell_type": "code",
   "execution_count": 33,
   "metadata": {},
   "outputs": [
    {
     "name": "stdout",
     "output_type": "stream",
     "text": [
      "   id  nclass  math  english  science\n",
      "0   1       1    50       98       50\n"
     ]
    }
   ],
   "source": [
    "df0 = exam.iloc[[0]]\n",
    "print(df0)"
   ]
  },
  {
   "cell_type": "code",
   "execution_count": 34,
   "metadata": {},
   "outputs": [
    {
     "name": "stdout",
     "output_type": "stream",
     "text": [
      "   id  nclass  math  english  science\n",
      "0   1       1    50       98       50\n",
      "5   6       2    50       89       98\n",
      "7   8       2    90       78       25\n"
     ]
    }
   ],
   "source": [
    "df057 = exam.iloc[[0, 5, 7]]\n",
    "print(df057)"
   ]
  },
  {
   "cell_type": "code",
   "execution_count": 35,
   "metadata": {},
   "outputs": [
    {
     "name": "stdout",
     "output_type": "stream",
     "text": [
      "   id  nclass  math  english  science\n",
      "0   1       1    50       98       50\n",
      "1   2       1    60       97       60\n",
      "2   3       1    45       86       78\n"
     ]
    }
   ],
   "source": [
    "df02 = exam.iloc[0:3] # 인덱스 번호 0부터 2까지 행 추출 (3 포함 안 됨)\n",
    "# loc[ ]과 다른 부분\n",
    "print(df02)"
   ]
  },
  {
   "cell_type": "code",
   "execution_count": 36,
   "metadata": {},
   "outputs": [
    {
     "name": "stdout",
     "output_type": "stream",
     "text": [
      "   id  nclass  math  english  science\n",
      "0   1       1    50       98       50\n",
      "1   2       1    60       97       60\n",
      "2   3       1    45       86       78\n",
      "3   4       1    30       98       58\n"
     ]
    }
   ],
   "source": [
    "df03 = exam.loc[0:3] # 인덱스 번호 0부터 3까지 행 추출\n",
    "print(df03)"
   ]
  },
  {
   "cell_type": "markdown",
   "metadata": {},
   "source": [
    "- 인덱스 번호를 지정해 열 추출하기"
   ]
  },
  {
   "cell_type": "code",
   "execution_count": 37,
   "metadata": {},
   "outputs": [
    {
     "name": "stdout",
     "output_type": "stream",
     "text": [
      "0     1\n",
      "1     1\n",
      "2     1\n",
      "3     1\n",
      "4     2\n",
      "5     2\n",
      "6     2\n",
      "7     2\n",
      "8     3\n",
      "9     3\n",
      "10    3\n",
      "11    3\n",
      "12    4\n",
      "13    4\n",
      "14    4\n",
      "15    4\n",
      "16    5\n",
      "17    5\n",
      "18    5\n",
      "19    5\n",
      "Name: nclass, dtype: int64\n"
     ]
    }
   ],
   "source": [
    "col1 = exam.iloc[:, 1] # 모든 행의 1열 추출\n",
    "print(col1)"
   ]
  },
  {
   "cell_type": "code",
   "execution_count": 38,
   "metadata": {},
   "outputs": [
    {
     "name": "stdout",
     "output_type": "stream",
     "text": [
      "    nclass  english\n",
      "0        1       98\n",
      "1        1       97\n",
      "2        1       86\n",
      "3        1       98\n",
      "4        2       80\n",
      "5        2       89\n",
      "6        2       90\n",
      "7        2       78\n",
      "8        3       98\n",
      "9        3       98\n",
      "10       3       65\n",
      "11       3       85\n",
      "12       4       98\n",
      "13       4       87\n",
      "14       4       56\n",
      "15       4       98\n",
      "16       5       68\n",
      "17       5       78\n",
      "18       5       68\n",
      "19       5       83\n"
     ]
    }
   ],
   "source": [
    "col13 = exam.iloc[:, [1, 3]] # 모든 행의 1, 3열 추출\n",
    "print(col13)"
   ]
  },
  {
   "cell_type": "code",
   "execution_count": 39,
   "metadata": {},
   "outputs": [
    {
     "name": "stdout",
     "output_type": "stream",
     "text": [
      "86\n"
     ]
    }
   ],
   "source": [
    "df23 = exam.iloc[2, 3] # 2행의 3열 추출\n",
    "print(df23)"
   ]
  },
  {
   "cell_type": "code",
   "execution_count": 40,
   "metadata": {},
   "outputs": [
    {
     "name": "stdout",
     "output_type": "stream",
     "text": [
      "   id  nclass  math\n",
      "0   1       1    50\n",
      "1   2       1    60\n"
     ]
    }
   ],
   "source": [
    "df12 = exam.iloc[[0, 1], [0, 1, 2]] # 0, 1 행의 0, 1, 2 열 추출\n",
    "print(df12)"
   ]
  },
  {
   "cell_type": "markdown",
   "metadata": {},
   "source": [
    "#### 연습문제\n",
    "1. exam 데이터에서 loc[ ]을 이용하여 5반 학생의 english 값만 추출\n",
    "2. exam 데이터에서 loc[ ]을 이용하여 english 값이 70 이상인 학생의 math, science 값만 추출"
   ]
  },
  {
   "cell_type": "markdown",
   "metadata": {},
   "source": [
    "### 데이터 정렬하기\n",
    "- df.sort_values( )\n",
    "  - 기본적으로 오름차순 정렬"
   ]
  },
  {
   "cell_type": "code",
   "execution_count": 41,
   "metadata": {},
   "outputs": [
    {
     "name": "stdout",
     "output_type": "stream",
     "text": [
      "    id  nclass  math  english  science\n",
      "8    9       3    20       98       15\n",
      "4    5       2    25       80       65\n",
      "3    4       1    30       98       58\n",
      "2    3       1    45       86       78\n",
      "11  12       3    45       85       32\n",
      "12  13       4    46       98       65\n",
      "13  14       4    48       87       12\n",
      "0    1       1    50       98       50\n",
      "9   10       3    50       98       45\n",
      "5    6       2    50       89       98\n",
      "15  16       4    58       98       65\n",
      "1    2       1    60       97       60\n",
      "10  11       3    65       65       65\n",
      "16  17       5    65       68       98\n",
      "14  15       4    75       56       78\n",
      "19  20       5    78       83       58\n",
      "6    7       2    80       90       45\n",
      "17  18       5    80       78       90\n",
      "18  19       5    89       68       87\n",
      "7    8       2    90       78       25\n"
     ]
    }
   ],
   "source": [
    "import pandas as pd\n",
    "\n",
    "exam = pd.read_csv('exam.csv') \n",
    "\n",
    "msorted = exam.sort_values('math') # math 값 기준으로 오름차순 정렬\n",
    "print(msorted)"
   ]
  },
  {
   "cell_type": "markdown",
   "metadata": {},
   "source": [
    "- 내림차순 정렬"
   ]
  },
  {
   "cell_type": "code",
   "execution_count": 42,
   "metadata": {},
   "outputs": [
    {
     "name": "stdout",
     "output_type": "stream",
     "text": [
      "    id  nclass  math  english  science\n",
      "7    8       2    90       78       25\n",
      "18  19       5    89       68       87\n",
      "17  18       5    80       78       90\n",
      "6    7       2    80       90       45\n",
      "19  20       5    78       83       58\n",
      "14  15       4    75       56       78\n",
      "16  17       5    65       68       98\n",
      "10  11       3    65       65       65\n",
      "1    2       1    60       97       60\n",
      "15  16       4    58       98       65\n",
      "9   10       3    50       98       45\n",
      "5    6       2    50       89       98\n",
      "0    1       1    50       98       50\n",
      "13  14       4    48       87       12\n",
      "12  13       4    46       98       65\n",
      "11  12       3    45       85       32\n",
      "2    3       1    45       86       78\n",
      "3    4       1    30       98       58\n",
      "4    5       2    25       80       65\n",
      "8    9       3    20       98       15\n"
     ]
    }
   ],
   "source": [
    "msorted2 = exam.sort_values('math', ascending = False) # 내림차순 정렬\n",
    "print(msorted2)"
   ]
  },
  {
   "cell_type": "markdown",
   "metadata": {},
   "source": [
    "- 여러 정렬 기준 적용"
   ]
  },
  {
   "cell_type": "code",
   "execution_count": 43,
   "metadata": {},
   "outputs": [
    {
     "name": "stdout",
     "output_type": "stream",
     "text": [
      "    id  nclass  math  english  science\n",
      "3    4       1    30       98       58\n",
      "2    3       1    45       86       78\n",
      "0    1       1    50       98       50\n",
      "1    2       1    60       97       60\n",
      "4    5       2    25       80       65\n",
      "5    6       2    50       89       98\n",
      "6    7       2    80       90       45\n",
      "7    8       2    90       78       25\n",
      "8    9       3    20       98       15\n",
      "11  12       3    45       85       32\n",
      "9   10       3    50       98       45\n",
      "10  11       3    65       65       65\n",
      "12  13       4    46       98       65\n",
      "13  14       4    48       87       12\n",
      "15  16       4    58       98       65\n",
      "14  15       4    75       56       78\n",
      "16  17       5    65       68       98\n",
      "19  20       5    78       83       58\n",
      "17  18       5    80       78       90\n",
      "18  19       5    89       68       87\n"
     ]
    }
   ],
   "source": [
    "sortnm = exam.sort_values(['nclass', 'math']) # nclass 값으로 오름차순 정렬하고 거기서 math 값으로 오름차순 정렬\n",
    "print(sortnm)"
   ]
  },
  {
   "cell_type": "code",
   "execution_count": 44,
   "metadata": {},
   "outputs": [
    {
     "name": "stdout",
     "output_type": "stream",
     "text": [
      "    id  nclass  math  english  science\n",
      "1    2       1    60       97       60\n",
      "0    1       1    50       98       50\n",
      "2    3       1    45       86       78\n",
      "3    4       1    30       98       58\n",
      "7    8       2    90       78       25\n",
      "6    7       2    80       90       45\n",
      "5    6       2    50       89       98\n",
      "4    5       2    25       80       65\n",
      "10  11       3    65       65       65\n",
      "9   10       3    50       98       45\n",
      "11  12       3    45       85       32\n",
      "8    9       3    20       98       15\n",
      "14  15       4    75       56       78\n",
      "15  16       4    58       98       65\n",
      "13  14       4    48       87       12\n",
      "12  13       4    46       98       65\n",
      "18  19       5    89       68       87\n",
      "17  18       5    80       78       90\n",
      "19  20       5    78       83       58\n",
      "16  17       5    65       68       98\n"
     ]
    }
   ],
   "source": [
    "sort2 = exam.sort_values(['nclass', 'math'], ascending = [True, False]) # nclass 기준으로 오름차순 정렬하고 math 기준으로 내림차순 정렬\n",
    "print(sort2)"
   ]
  },
  {
   "cell_type": "markdown",
   "metadata": {},
   "source": [
    "#### 연습문제\n",
    "1. exam 데이터에서 math 값이 50 이상인 행을 추출하고 여기서 nclass와 english 기준으로 오름차순 정렬"
   ]
  },
  {
   "cell_type": "code",
   "execution_count": null,
   "metadata": {},
   "outputs": [],
   "source": []
  }
 ],
 "metadata": {
  "kernelspec": {
   "display_name": "Python 3 (ipykernel)",
   "language": "python",
   "name": "python3"
  },
  "language_info": {
   "codemirror_mode": {
    "name": "ipython",
    "version": 3
   },
   "file_extension": ".py",
   "mimetype": "text/x-python",
   "name": "python",
   "nbconvert_exporter": "python",
   "pygments_lexer": "ipython3",
   "version": "3.12.4"
  }
 },
 "nbformat": 4,
 "nbformat_minor": 4
}
